{
 "cells": [
  {
   "cell_type": "markdown",
   "metadata": {},
   "source": [
    "# 3章 ニューラルネットワーク"
   ]
  },
  {
   "cell_type": "markdown",
   "metadata": {},
   "source": [
    "> 悪いニュースは，重みを設定する作業−期待する入力と出力を満たすような適切な重みを決める作業−は，今のところ人の手によって行われているということです． ... 適切な重みパラメータをデータから自動で学習できるというのがニューラルネットワークの重要な性質のひとつです．\n",
    "\n",
    "この導入めっちゃわかりやすいな．ルールベースモデルから統計モデル（データから一部を学習させるモデル）を導入する感じ．"
   ]
  },
  {
   "cell_type": "markdown",
   "metadata": {},
   "source": [
    "# 3.1. パーセプトロンからニューラルネットワークへ"
   ]
  },
  {
   "cell_type": "markdown",
   "metadata": {},
   "source": [
    "> 図 3-1\n",
    "\n",
    "入力層，中間層(隠れ層)，出力層，第 $i$ 層， $n$ 層ネットワーク，の定義がわかりやすい．  \n",
    "「変換(線形変換，活性化)が何層に対して行われているか」で $n$ 層ネットワークを定義したい気持ちなんだと思う．"
   ]
  },
  {
   "cell_type": "markdown",
   "metadata": {},
   "source": [
    "> 式 (3.1) を次の式 (3.2), (3.3) のように書き換えます\n",
    "\n",
    "活性化関数へのこの持って行き方も，わかりやすい．"
   ]
  },
  {
   "cell_type": "markdown",
   "metadata": {},
   "source": [
    "> 重み付きの入力信号(特徴量)の総和を計算し，その和を活性化関数によって変換する，という２段階の処理\n",
    "\n",
    "結構これがすべて．図 3-4, 3-5 も厳密で分かりやすくて良いね．"
   ]
  },
  {
   "cell_type": "markdown",
   "metadata": {},
   "source": [
    "> 「パーセプトロン」という言葉が指すアルゴリズムは，本書では厳密な統一がなされずに使われています．一般的に，...\n",
    "\n",
    "こういう気になる部分の解説もあって良い．  また，2章の注釈に\n",
    "\n",
    "> 本章で述べるパーセプトロンは正確には「単純パーセプトロン」と呼ばれるものです．ここでは単に「パーセプトロン」と呼ぶことにします\n",
    "\n",
    "という前置きがあるので，それと合わせてこの辺を読むと，言葉の定義とか納得いく．  \n",
    "まあ，単層でステップ関数のやつは「単純パーセプトロン」って厳密に呼んだ方が誤解なくて良さそう．\n",
    "\n",
    "まあ，厳密な決まりはなさそうだし，気にしすぎない．"
   ]
  },
  {
   "cell_type": "markdown",
   "metadata": {},
   "source": [
    "# 3.2. 活性化関数"
   ]
  },
  {
   "cell_type": "markdown",
   "metadata": {},
   "source": [
    "> シグモイド関数\n",
    "\n",
    "ロジスティックでお馴染みのやつ．"
   ]
  },
  {
   "cell_type": "markdown",
   "metadata": {},
   "source": [
    "## 3.2.2. ステップ関数の実装"
   ]
  },
  {
   "cell_type": "code",
   "execution_count": 3,
   "metadata": {},
   "outputs": [],
   "source": [
    "def step_function(x):\n",
    "    if x > 0:\n",
    "        return 1\n",
    "    else:\n",
    "        return 0"
   ]
  },
  {
   "cell_type": "code",
   "execution_count": 6,
   "metadata": {},
   "outputs": [
    {
     "data": {
      "text/plain": [
       "0"
      ]
     },
     "execution_count": 6,
     "metadata": {},
     "output_type": "execute_result"
    }
   ],
   "source": [
    "step_function(-1)"
   ]
  },
  {
   "cell_type": "code",
   "execution_count": 3,
   "metadata": {},
   "outputs": [],
   "source": [
    "# ステップ関数の実装：行列表記した時のために np.array() 入力に対応させたい．\n",
    "\n",
    "import numpy as np"
   ]
  },
  {
   "cell_type": "code",
   "execution_count": 26,
   "metadata": {},
   "outputs": [
    {
     "data": {
      "text/plain": [
       "array([False, False,  True])"
      ]
     },
     "execution_count": 26,
     "metadata": {},
     "output_type": "execute_result"
    }
   ],
   "source": [
    "x = np.array([-1.0, 1.0, 2.0])\n",
    "x > 1"
   ]
  },
  {
   "cell_type": "code",
   "execution_count": 31,
   "metadata": {},
   "outputs": [
    {
     "data": {
      "text/plain": [
       "array([0, 0, 1])"
      ]
     },
     "execution_count": 31,
     "metadata": {},
     "output_type": "execute_result"
    }
   ],
   "source": [
    "# np.array([False, False, True]).astype(int)\n",
    "np.array([False, False, True]).astype(np.int)\n",
    "\n",
    "# この技は知らなかった．便利．"
   ]
  },
  {
   "cell_type": "code",
   "execution_count": 28,
   "metadata": {},
   "outputs": [],
   "source": [
    "def step_function(x):\n",
    "    y = x > 0\n",
    "    return y.astype(np.int)"
   ]
  },
  {
   "cell_type": "code",
   "execution_count": 30,
   "metadata": {},
   "outputs": [
    {
     "data": {
      "text/plain": [
       "array([1, 1, 0])"
      ]
     },
     "execution_count": 30,
     "metadata": {},
     "output_type": "execute_result"
    }
   ],
   "source": [
    "step_function(np.array([2, 1, -2]))"
   ]
  },
  {
   "cell_type": "markdown",
   "metadata": {},
   "source": [
    "## 3.2.3. ステップ関数のグラフ"
   ]
  },
  {
   "cell_type": "code",
   "execution_count": 32,
   "metadata": {},
   "outputs": [],
   "source": [
    "import matplotlib.pyplot as plt"
   ]
  },
  {
   "cell_type": "code",
   "execution_count": 42,
   "metadata": {},
   "outputs": [
    {
     "data": {
      "text/plain": [
       "array([0, 0, 0, 0, 0, 0, 0, 0, 0, 0, 0, 0, 0, 0, 0, 0, 0, 0, 0, 0, 0, 0,\n",
       "       0, 0, 0, 0, 0, 0, 0, 0, 0, 0, 0, 0, 0, 0, 0, 0, 0, 0, 0, 0, 0, 0,\n",
       "       0, 0, 0, 0, 0, 0, 0, 1, 1, 1, 1, 1, 1, 1, 1, 1, 1, 1, 1, 1, 1, 1,\n",
       "       1, 1, 1, 1, 1, 1, 1, 1, 1, 1, 1, 1, 1, 1, 1, 1, 1, 1, 1, 1, 1, 1,\n",
       "       1, 1, 1, 1, 1, 1, 1, 1, 1, 1, 1, 1])"
      ]
     },
     "execution_count": 42,
     "metadata": {},
     "output_type": "execute_result"
    }
   ],
   "source": [
    "x = np.arange(-5.0, 5.0, 0.1)\n",
    "y = step_function(x)\n",
    "y"
   ]
  },
  {
   "cell_type": "code",
   "execution_count": 43,
   "metadata": {},
   "outputs": [
    {
     "data": {
      "text/plain": [
       "(-0.1, 1.1)"
      ]
     },
     "execution_count": 43,
     "metadata": {},
     "output_type": "execute_result"
    },
    {
     "data": {
      "image/png": "[encoded data removed]",
      "text/plain": [
       "<Figure size 432x288 with 1 Axes>"
      ]
     },
     "metadata": {
      "needs_background": "light"
     },
     "output_type": "display_data"
    }
   ],
   "source": [
    "plt.plot(x, y)\n",
    "plt.ylim(-0.1, 1.1)\n",
    "# plt.show()"
   ]
  },
  {
   "cell_type": "markdown",
   "metadata": {},
   "source": [
    "## 3.2.4. シグモイド関数の実装"
   ]
  },
  {
   "cell_type": "code",
   "execution_count": 50,
   "metadata": {},
   "outputs": [
    {
     "data": {
      "text/plain": [
       "array([1.        , 2.71828183, 7.3890561 ])"
      ]
     },
     "execution_count": 50,
     "metadata": {},
     "output_type": "execute_result"
    }
   ],
   "source": [
    "# np.exp(0)\n",
    "np.exp(np.array([0, 1, 2]))\n",
    "# -np.array([1,2,3])"
   ]
  },
  {
   "cell_type": "code",
   "execution_count": 66,
   "metadata": {},
   "outputs": [],
   "source": [
    "def sigmoid(x):\n",
    "    return 1 / (1+np.exp(-x))"
   ]
  },
  {
   "cell_type": "code",
   "execution_count": 53,
   "metadata": {},
   "outputs": [
    {
     "data": {
      "text/plain": [
       "array([0.11920292, 0.26894142, 0.5       , 0.73105858, 0.88079708])"
      ]
     },
     "execution_count": 53,
     "metadata": {},
     "output_type": "execute_result"
    }
   ],
   "source": [
    "sigmoid(np.array([-2.0, -1.0, 0.0, 1.0, 2.0]))"
   ]
  },
  {
   "cell_type": "code",
   "execution_count": 55,
   "metadata": {},
   "outputs": [],
   "source": [
    "x = np.arange(-5.0, 5.0, 0.1)\n",
    "y = sigmoid(x)\n",
    "# y"
   ]
  },
  {
   "cell_type": "code",
   "execution_count": 56,
   "metadata": {},
   "outputs": [
    {
     "data": {
      "text/plain": [
       "(-0.1, 1.1)"
      ]
     },
     "execution_count": 56,
     "metadata": {},
     "output_type": "execute_result"
    },
    {
     "data": {
      "image/png": "[encoded data removed]",
      "text/plain": [
       "<Figure size 432x288 with 1 Axes>"
      ]
     },
     "metadata": {
      "needs_background": "light"
     },
     "output_type": "display_data"
    }
   ],
   "source": [
    "plt.plot(x, y)\n",
    "plt.ylim(-0.1, 1.1)"
   ]
  },
  {
   "cell_type": "markdown",
   "metadata": {},
   "source": [
    "## 3.2.5.  シグモイド関数とステップ関数の比較\n",
    "\n",
    "### 相違点\n",
    "\n",
    "- 滑らかさ＝微分可能かどうか．学習(パラメータ推定, 勾配を使った最適化)において重要\n",
    "- 出力が連続値か離散二値か．\n",
    "\n",
    "### 共通点\n",
    "\n",
    "- 非線型関数である\n",
    "- 入力の単調増加関数\n",
    "- 出力のとりうる値が 0 から 1 までの間に収まっている．"
   ]
  },
  {
   "cell_type": "markdown",
   "metadata": {},
   "source": [
    "## 3.2.6. 非線型関数\n",
    "\n",
    "後で出てくる行列表記を理解すれば分かりやすいが，活性化関数に線形関数を使うと，何層重ねようと結局\n",
    "$\\boldsymbol{y} = \\boldsymbol{A} \\boldsymbol{x}$\n",
    "の形にまとめられてしまう．     \n",
    "\n",
    "これだと，層を重ねている意味が無いというか，層を重ねても表現力(モデルの柔軟性，関数のグニャグニャ度)を上げることができない，ということ．まあ納得．\n",
    "\n",
    "本文の説明も雰囲気わかりやすい．"
   ]
  },
  {
   "cell_type": "markdown",
   "metadata": {},
   "source": [
    "## 3.2.7. ReLU 関数"
   ]
  },
  {
   "cell_type": "code",
   "execution_count": 62,
   "metadata": {},
   "outputs": [
    {
     "data": {
      "text/plain": [
       "array([0., 1., 0., 2.])"
      ]
     },
     "execution_count": 62,
     "metadata": {},
     "output_type": "execute_result"
    }
   ],
   "source": [
    "np.maximum(np.array([-1, 1, -0.5, 2]), 0)\n",
    "# この関数は知らなかった．便利．まあ R でも同じことできそうだな． max(c(1,2,3), 1) みたいな．"
   ]
  },
  {
   "cell_type": "code",
   "execution_count": 63,
   "metadata": {},
   "outputs": [],
   "source": [
    "def relu(x):\n",
    "    return np.maximum(x, 0)"
   ]
  },
  {
   "cell_type": "code",
   "execution_count": 64,
   "metadata": {},
   "outputs": [
    {
     "data": {
      "text/plain": [
       "array([0, 4, 0, 2])"
      ]
     },
     "execution_count": 64,
     "metadata": {},
     "output_type": "execute_result"
    }
   ],
   "source": [
    "relu(np.array([-1, 4, -5, 2]))"
   ]
  },
  {
   "cell_type": "code",
   "execution_count": 66,
   "metadata": {},
   "outputs": [],
   "source": [
    "x = np.arange(-5.0, 5.0, 0.1)\n",
    "y = relu(x)\n",
    "# y"
   ]
  },
  {
   "cell_type": "code",
   "execution_count": 68,
   "metadata": {},
   "outputs": [
    {
     "data": {
      "text/plain": [
       "(-0.1, 5)"
      ]
     },
     "execution_count": 68,
     "metadata": {},
     "output_type": "execute_result"
    },
    {
     "data": {
      "image/png": "[encoded data removed]",
      "text/plain": [
       "<Figure size 432x288 with 1 Axes>"
      ]
     },
     "metadata": {
      "needs_background": "light"
     },
     "output_type": "display_data"
    }
   ],
   "source": [
    "plt.plot(x, y)\n",
    "plt.ylim(-0.1, 5)"
   ]
  },
  {
   "cell_type": "markdown",
   "metadata": {},
   "source": [
    "なんで最近は ReLU が好まれるか，とかは，深層学習理論の研究してる人たちが考えてくれているんだろう．  \n",
    "どこまで複雑な関数を表現できるかの表現力とか，汎化誤差の観点から．"
   ]
  },
  {
   "cell_type": "markdown",
   "metadata": {},
   "source": [
    "# 3.3. 多次元配列(行列)の計算"
   ]
  },
  {
   "cell_type": "code",
   "execution_count": 2,
   "metadata": {},
   "outputs": [],
   "source": [
    "import numpy as np"
   ]
  },
  {
   "cell_type": "code",
   "execution_count": 11,
   "metadata": {},
   "outputs": [
    {
     "data": {
      "text/plain": [
       "1"
      ]
     },
     "execution_count": 11,
     "metadata": {},
     "output_type": "execute_result"
    }
   ],
   "source": [
    "a = np.array([1, 2, 3, 4])\n",
    "a.shape    # 配列の形状(数学的には行列ベクトルの次元？)\n",
    "a.ndim      # 配列の次元数(1次元配列＝ベクトル，2次元配列＝行列，３以上次元配列＝テンソル)"
   ]
  },
  {
   "cell_type": "code",
   "execution_count": 17,
   "metadata": {},
   "outputs": [
    {
     "data": {
      "text/plain": [
       "(3, 2)"
      ]
     },
     "execution_count": 17,
     "metadata": {},
     "output_type": "execute_result"
    }
   ],
   "source": [
    "B = np.array([[1,2], [3,4], [5,6]])    # ３行２列の行列\n",
    "B\n",
    "B.ndim\n",
    "B.shape"
   ]
  },
  {
   "cell_type": "markdown",
   "metadata": {},
   "source": [
    "行列の積 $A B$ は， $A$の 第 $i$ 行ベクトルと $B$ の第 $j$ 列ベクトルとの内積が $(i, j)$ 要素となるような行列．以上．"
   ]
  },
  {
   "cell_type": "code",
   "execution_count": 23,
   "metadata": {},
   "outputs": [
    {
     "data": {
      "text/plain": [
       "array([[19, 22],\n",
       "       [43, 50]])"
      ]
     },
     "execution_count": 23,
     "metadata": {},
     "output_type": "execute_result"
    }
   ],
   "source": [
    "A = np.array([[1,2], [3,4]])\n",
    "B = np.array([[5,6,], [7,8]])\n",
    "A\n",
    "B\n",
    "np.dot(A, B)"
   ]
  },
  {
   "cell_type": "code",
   "execution_count": 34,
   "metadata": {},
   "outputs": [
    {
     "data": {
      "text/plain": [
       "array([[22, 28],\n",
       "       [49, 64]])"
      ]
     },
     "execution_count": 34,
     "metadata": {},
     "output_type": "execute_result"
    }
   ],
   "source": [
    "A = np.array([[1,2,3], [4,5,6]])\n",
    "B = np.array([[1,2], [3,4], [5,6]])\n",
    "A.shape\n",
    "B.shape\n",
    "np.dot(A, B)"
   ]
  },
  {
   "cell_type": "code",
   "execution_count": 48,
   "metadata": {},
   "outputs": [
    {
     "data": {
      "text/plain": [
       "array([23, 53, 83])"
      ]
     },
     "execution_count": 48,
     "metadata": {},
     "output_type": "execute_result"
    }
   ],
   "source": [
    "A = np.array([[1,2], [3,4], [5,6]])  # 3 x 2\n",
    "b = np.array([7,8])\n",
    "np.dot(A, b)\n",
    "# 1次元配列(ベクトル)は縦ベクトル(今回は 2 x 1)とみなされるのか？\n",
    "\n",
    "# np.dot(b, A)\n",
    "# これはエラー．なので，np.dot() ではちゃんと順序の区別がついていて，　第１引数 x 第２引数，の行列積が計算される．"
   ]
  },
  {
   "cell_type": "markdown",
   "metadata": {},
   "source": [
    "## 3.3.3. ニューラルネットワークの行列の積"
   ]
  },
  {
   "cell_type": "markdown",
   "metadata": {},
   "source": [
    "> 図 3-14 の $ x W = y$\n",
    "\n",
    "主成分とかだと $W x$ の順だったから逆で違和感だが，ネットワークの図と見比べることを考えると，こういう風に右から重み係数行列を掛けて行った方がわかりやすいな．  \n",
    "「入力層の変数 $\\times$ 中間層1の係数行列 $\\times$ 中間層2の係数行列 $\\times \\cdots \\times = $ 出力層の変数」  \n",
    "という感じでネットワーク図と並べてわかりやすく表記できる．\n",
    "\n",
    "この表記だと， 入力ベクトル $x$ と出力ベクトル $y$ は横ベクトルだよ．注意．  \n",
    "$m \\times n$ 重み係数行列は(右から掛けることで)「特徴量を $m$ 次元から $n$ 次元に線形変換する」という意味の役割になって，これはこれでわかりやすい．\n",
    "\n",
    "てか，この $x W$ っていう形にしておくと，のちのバッチ処理(3.6.3) で行ベクトル $x$ を束ねて(バッチにして) 計画行列 $X$ を作り，  \n",
    "行列表現 $X W$ を得ることができる． これは線形回帰モデル $y = X \\beta$ の直接の拡張としてみなせる．  \n",
    "この $\\beta$ は $p \\times1$ 行列で， $p$ 変数を線形変換して 1 次元にする，と解釈できるから．"
   ]
  },
  {
   "cell_type": "code",
   "execution_count": 59,
   "metadata": {},
   "outputs": [
    {
     "data": {
      "text/plain": [
       "array([ 5, 11, 17])"
      ]
     },
     "execution_count": 59,
     "metadata": {},
     "output_type": "execute_result"
    }
   ],
   "source": [
    "x = np.array([1, 2])\n",
    "W = np.array([[1, 3, 5], [2, 4, 6]])\n",
    "# W\n",
    "y = np.dot(x, W)\n",
    "y\n",
    "# 1 次元配列は↑では縦ベクトルとして扱われたが，ここでは横ベクトルとして扱われている．\n",
    "# したがって， 1次元 numpy 配列には縦横の区別は無くて， 毎回の np.dot() において積が定義されるように解釈される．"
   ]
  },
  {
   "cell_type": "code",
   "execution_count": 58,
   "metadata": {},
   "outputs": [
    {
     "data": {
      "text/plain": [
       "(1, 2)"
      ]
     },
     "execution_count": 58,
     "metadata": {},
     "output_type": "execute_result"
    }
   ],
   "source": [
    "# 勝手に縦横の解釈がされないような列ベクトルあるいは行ベクトルを作りたければ， 1 x p  あるいは p x 1 の2次元配列にしちゃえば良い．\n",
    "col_vec = np.array([[1], [2]])\n",
    "row_vec = np.array([[1, 2]])\n",
    "col_vec.shape\n",
    "row_vec.shape"
   ]
  },
  {
   "cell_type": "markdown",
   "metadata": {},
   "source": [
    "# 3.4. ３層ニューラルネットワークの実装"
   ]
  },
  {
   "cell_type": "markdown",
   "metadata": {},
   "source": [
    "> $w_{ij}^{(l)}, ~ a_k^{(l)} ~$ などのノーテーション．図 3-16 とか 式 (3.8), (3.9) とか．\n",
    "\n",
    "肩の $(l)$ は自然で良いと思う． 第 $l$ 層にいる線形結合を $a^{(l)}$ で表し，第 $l$ 層への重み係数を $w^{(l)}$ で表す．  \n",
    "「線形変換とその結果得られたベクトルのセット」を１つの層と見做しているイメージにも合致する．  \n",
    "\n",
    "ただ， 重み係数 $w_{ij}$ のノーテーションはセンス無いと思う．  \n",
    "その結果 (3.9) の行列 $W$ において $w_{ij}$ が $j,i$ 成分になってて気持ち悪すぎ．\n",
    "\n",
    "同値 (行列 $W$ の値は変わらない) だし，俺の中では，  \n",
    "$w_{ij}$ は前層の第 $i$ ニューロンから次層の第 $j$ ニューロンへの重み，と思って，$W = \\{w_{ij}\\}$ と思っておこう．  \n",
    "つまり，俺の中での $w_{ij}$ は本書での $w_{ji}$ を指す．"
   ]
  },
  {
   "cell_type": "code",
   "execution_count": 64,
   "metadata": {},
   "outputs": [
    {
     "data": {
      "text/plain": [
       "array([0.3, 0.7, 1.1])"
      ]
     },
     "execution_count": 64,
     "metadata": {},
     "output_type": "execute_result"
    }
   ],
   "source": [
    "x = np.array([1.0, 0.5])\n",
    "W1 = np.array([[0.1, 0.3, 0.5], [0.2, 0.4, 0.6]])\n",
    "b1 = np.array([0.1, 0.2, 0.3])\n",
    "\n",
    "a1 = np.dot(x, W1) + b1\n",
    "a1"
   ]
  },
  {
   "cell_type": "code",
   "execution_count": 69,
   "metadata": {},
   "outputs": [
    {
     "data": {
      "text/plain": [
       "array([0.57444252, 0.66818777, 0.75026011])"
      ]
     },
     "execution_count": 69,
     "metadata": {},
     "output_type": "execute_result"
    }
   ],
   "source": [
    "z1 = sigmoid(a1)  # 前に定義した各要素をシグモイドで変換する関数\n",
    "z1"
   ]
  },
  {
   "cell_type": "code",
   "execution_count": 71,
   "metadata": {},
   "outputs": [
    {
     "data": {
      "text/plain": [
       "array([0.62624937, 0.7710107 ])"
      ]
     },
     "execution_count": 71,
     "metadata": {},
     "output_type": "execute_result"
    }
   ],
   "source": [
    "W2 = np.array([[0.1, 0.4], [0.2, 0.5], [0.3, 0.6]])\n",
    "b2 = np.array([0.1, 0.2])\n",
    "a2 = np.dot(z1, W2) + b2\n",
    "z2 = sigmoid(a2)\n",
    "z2"
   ]
  },
  {
   "cell_type": "code",
   "execution_count": 74,
   "metadata": {},
   "outputs": [],
   "source": [
    "def identity_function(x):\n",
    "    return x"
   ]
  },
  {
   "cell_type": "code",
   "execution_count": 77,
   "metadata": {},
   "outputs": [
    {
     "data": {
      "text/plain": [
       "array([0.31682708, 0.69627909])"
      ]
     },
     "execution_count": 77,
     "metadata": {},
     "output_type": "execute_result"
    }
   ],
   "source": [
    "W3 = np.array([[0.1, 0.3], [0.2, 0.4]])\n",
    "b3 = np.array([0.1, 0.2])\n",
    "a3 = np.dot(z2, W3) + b3\n",
    "y = identity_function(a3)\n",
    "y"
   ]
  },
  {
   "cell_type": "markdown",
   "metadata": {},
   "source": [
    "> 図 3-20 の表記では，出力層の活性化関数は $\\sigma()$ で表し，隠れ層の活性化関数 $h()$ とは異なることを示しています．  \n",
    "\n",
    "> 回帰問題では恒等関数，２クラス分類問題ではシグモイド関数（で出力層のノードは１個？），多クラス分類問題ではソフトマックス関数（で出力層のノードはK個？）を使うのが一般的です．\n",
    "\n",
    "分類でシグモイド関数とソフトマックス関数を使うのは，ニューラルネットワーク全体で識別モデル(not識別関数)を作りたいからだろう．  \n",
    "つまり解釈や意思決定(ex.棄却オプション)のために出力を「確率」で得たいからだろう．  \n",
    "ただ，回帰で恒等関数が好まれるっていうのは，理由あんまわからん．最後は非線形変換しても無駄っていうことかな．  \n",
    "まあ詳しくは次節らしい．それか MLP 本とか見る．"
   ]
  },
  {
   "cell_type": "code",
   "execution_count": 87,
   "metadata": {},
   "outputs": [],
   "source": [
    "class Network:\n",
    "    \n",
    "    def __init__(self, W1, W2, W3, b1, b2, b3, activate, activate_f):\n",
    "        self.W1 = W1\n",
    "        self.W2 = W2\n",
    "        self.W3 = W3\n",
    "        self.b1 = b1\n",
    "        self.b2 = b2\n",
    "        self.b3 = b3\n",
    "        self.activate_func = activate\n",
    "        self.activate_final = activate_f\n",
    "    \n",
    "    def forward(self, x):\n",
    "        a1 = np.dot(x, self.W1) + self.b1\n",
    "        z1 = self.activate_func(a1)\n",
    "        a2 = np.dot(z1, self.W2) + self.b2\n",
    "        z2 = self.activate_func(a2)\n",
    "        a3 = np.dot(z2, self.W3) + self.b3\n",
    "        y = self.activate_final(a3)\n",
    "        return y"
   ]
  },
  {
   "cell_type": "code",
   "execution_count": 93,
   "metadata": {},
   "outputs": [],
   "source": [
    "network = Network(\n",
    "    W1 = np.array([[0.1, 0.3, 0.5], [0.2, 0.4, 0.6]]), \n",
    "    b1 = np.array([0.1, 0.2, 0.3]), \n",
    "    W2 = np.array([[0.1, 0.4], [0.2, 0.5], [0.3, 0.6]]), \n",
    "    b2 = np.array([0.1, 0.2]), \n",
    "    W3 = np.array([[0.1, 0.3], [0.2, 0.4]]), \n",
    "    b3 = np.array([0.1, 0.2]), \n",
    "    activate = sigmoid, \n",
    "    activate_f = identity_function\n",
    ")"
   ]
  },
  {
   "cell_type": "code",
   "execution_count": 94,
   "metadata": {},
   "outputs": [
    {
     "data": {
      "text/plain": [
       "array([[0.1, 0.3, 0.5],\n",
       "       [0.2, 0.4, 0.6]])"
      ]
     },
     "execution_count": 94,
     "metadata": {},
     "output_type": "execute_result"
    }
   ],
   "source": [
    "network\n",
    "dir(network)\n",
    "network.W1\n",
    "# network.activate_func"
   ]
  },
  {
   "cell_type": "code",
   "execution_count": 95,
   "metadata": {},
   "outputs": [
    {
     "data": {
      "text/plain": [
       "array([0.31682708, 0.69627909])"
      ]
     },
     "execution_count": 95,
     "metadata": {},
     "output_type": "execute_result"
    }
   ],
   "source": [
    "network.forward(x = np.array([1.0, 0.5]))"
   ]
  },
  {
   "cell_type": "markdown",
   "metadata": {},
   "source": [
    "> forward という単語が出てきましたが，これは入力から出力方向への伝達処理を表しています．後ほど，ニューラルネットワークの学習を行う際に， backward 方向−出力から入力方向−の処理について見ていく\n",
    "\n",
    "forward のニュアンスは納得できる．新たなデータについて予測する時は forward だろうな．"
   ]
  },
  {
   "cell_type": "markdown",
   "metadata": {},
   "source": [
    "# 3.5. 出力層の設計"
   ]
  },
  {
   "cell_type": "markdown",
   "metadata": {},
   "source": [
    "> ソフトマックスの出力は，すべての入力信号から矢印による結びつきがあります．出力の各ニューロンが，すべての入力信号から影響を受けることになるからです．\n",
    "\n",
    "確かにそうだが， $a_k$ を標準化(的なこと)して $y_k$ に変換しているだけなので，\n",
    "中間層までの線形変換と同じ描き方(全て実線の矢印) をするのは微妙．\n",
    "\n",
    "ソフトマックスの時は出力層を図 3-20 みたいに描けないな，まあしょうがない．\n",
    "\n",
    "識別モデル(not識別関数)を作るために「足して１になる割合化」したいだけなら，$y_k = \\frac{a_k}{\\sum_i a_i} $ でも良いはず．ソフトマックス関数のアドは他にあるのかも，微分して最適化しやすい，とかかな．  \n",
    "あ，マイナスの入力に対応できる点も，ソフトマックスのアドだわ．$y_k = \\frac{a_k}{\\sum_i a_i} $　だとマイナスの値の時に負の値が出てきて確率にならない．というか，これを防ぐために指数関数に入れてから構成比にしました，っていうのが，ソフトマックスかも．そう解釈もできそう"
   ]
  },
  {
   "cell_type": "code",
   "execution_count": 99,
   "metadata": {},
   "outputs": [
    {
     "data": {
      "text/plain": [
       "array([0.09003057, 0.24472847, 0.66524096])"
      ]
     },
     "execution_count": 99,
     "metadata": {},
     "output_type": "execute_result"
    }
   ],
   "source": [
    "a = np.array([1, 2, 3])\n",
    "np.exp(a)\n",
    "sum(np.exp(a))\n",
    "np.exp(a) / sum(np.exp(a))"
   ]
  },
  {
   "cell_type": "code",
   "execution_count": 100,
   "metadata": {},
   "outputs": [],
   "source": [
    "def softmax(a):\n",
    "    return np.exp(a) / sum(np.exp(a))"
   ]
  },
  {
   "cell_type": "code",
   "execution_count": 101,
   "metadata": {},
   "outputs": [
    {
     "data": {
      "text/plain": [
       "array([0.09003057, 0.24472847, 0.66524096])"
      ]
     },
     "execution_count": 101,
     "metadata": {},
     "output_type": "execute_result"
    }
   ],
   "source": [
    "softmax(np.array([1,2,3]))"
   ]
  },
  {
   "cell_type": "markdown",
   "metadata": {},
   "source": [
    "## 3.5.2. ソフトマックス関数の実装上の注意\n",
    "\n",
    "俺普段こういうのあまり考慮できていないから注意．"
   ]
  },
  {
   "cell_type": "code",
   "execution_count": 5,
   "metadata": {},
   "outputs": [
    {
     "name": "stderr",
     "output_type": "stream",
     "text": [
      "/Users/rui/.pyenv/versions/anaconda3-2019.10/lib/python3.7/site-packages/ipykernel_launcher.py:2: RuntimeWarning: overflow encountered in exp\n",
      "  \n"
     ]
    },
    {
     "data": {
      "text/plain": [
       "inf"
      ]
     },
     "execution_count": 5,
     "metadata": {},
     "output_type": "execute_result"
    }
   ],
   "source": [
    "np.exp(100)\n",
    "np.exp(1000)\n",
    "# np.exp(-100)\n",
    "# np.exp(-1000)\n",
    "\n",
    "# 確かに指数関数だと割と簡単に無限大 inf とかになる．まあそりゃそうかオーダー的に．"
   ]
  },
  {
   "cell_type": "markdown",
   "metadata": {},
   "source": [
    "> オーバーフロー\n",
    "\n",
    "数値は有限個のビットで記録されるから，表現できる数値の範囲には制限があるよ (基本情報でさんざんやった)．  \n",
    "なので，計算結果で表現不可能なほど大きい(小さい)値が出てきちゃって，  \n",
    "それが(メモリ上のある区域に)記録されようとすると「それは無理です」となる．  \n",
    "それがオーバーフロー．"
   ]
  },
  {
   "cell_type": "markdown",
   "metadata": {},
   "source": [
    "> (3.11)で述べていることは，ソフトマックス関数の指数関数の計算を行う際には，何らかの定数を足し算（もしくは引き算）しても結果は変わらない，ということです．\n",
    "\n",
    "> オーバーフローの対策としては，入力信号の中で最大の値を用いる(入力信号ー最大値の引き算をする)のが一般的です．\n",
    "\n",
    "これ賢い．↓の実際の確認もわかりやすい．"
   ]
  },
  {
   "cell_type": "code",
   "execution_count": 22,
   "metadata": {},
   "outputs": [
    {
     "name": "stderr",
     "output_type": "stream",
     "text": [
      "/Users/rui/.pyenv/versions/anaconda3-2019.10/lib/python3.7/site-packages/ipykernel_launcher.py:2: RuntimeWarning: overflow encountered in exp\n",
      "  \n",
      "/Users/rui/.pyenv/versions/anaconda3-2019.10/lib/python3.7/site-packages/ipykernel_launcher.py:2: RuntimeWarning: invalid value encountered in true_divide\n",
      "  \n"
     ]
    },
    {
     "data": {
      "text/plain": [
       "array([nan, nan, nan])"
      ]
     },
     "execution_count": 22,
     "metadata": {},
     "output_type": "execute_result"
    }
   ],
   "source": [
    "a = np.array([1010, 1000, 990])         # 入力値に差があるわけだし，ソフトマックス関数に入れた結果にも差がちゃんと現れて欲しい．\n",
    "np.exp(a) / np.sum(np.exp(a))             # しかし，正確に計算できずすべて nan になってしまう．\n",
    "# np.exp(a), np.sum(np.exp(a))          # なぜなら，　np.exp(a) の段階で inf になっちゃって，  inf / inf  の不定形みたいな感じになるから．\n",
    "# warning メッセージ(警告文)にも， overflow してるよ，というメッセージあり．"
   ]
  },
  {
   "cell_type": "code",
   "execution_count": 24,
   "metadata": {},
   "outputs": [
    {
     "data": {
      "text/plain": [
       "array([9.99954600e-01, 4.53978686e-05, 2.06106005e-09])"
      ]
     },
     "execution_count": 24,
     "metadata": {},
     "output_type": "execute_result"
    }
   ],
   "source": [
    "c = np.max(a)\n",
    "np.exp(a - c) / np.sum(np.exp(a - c))       # オーバーフローをちゃんと押さえて値を正しく算出でき，もとの入力(1010, 1000, 990)の差がちゃんと現れた．\n",
    "# np.exp(a - c), np.sum(np.exp(a - c))     # 最大値を引いて全体を小さめにすることで，exp()でのオーバーフローを防げている．"
   ]
  },
  {
   "cell_type": "code",
   "execution_count": 29,
   "metadata": {},
   "outputs": [],
   "source": [
    "def softmax(a):\n",
    "    c = np.max(a)               # オーバーフロー対策\n",
    "    return np.exp(a - c) / np.sum(np.exp(a - c))"
   ]
  },
  {
   "cell_type": "code",
   "execution_count": 30,
   "metadata": {},
   "outputs": [
    {
     "data": {
      "text/plain": [
       "array([1.00000000e+00, 3.72007598e-44, 1.38389653e-87])"
      ]
     },
     "execution_count": 30,
     "metadata": {},
     "output_type": "execute_result"
    }
   ],
   "source": [
    "softmax(np.array([1010, 1000, 990]))\n",
    "softmax(np.array([10100, 10000, 9900]))"
   ]
  },
  {
   "cell_type": "code",
   "execution_count": 72,
   "metadata": {},
   "outputs": [
    {
     "name": "stderr",
     "output_type": "stream",
     "text": [
      "/Users/rui/.pyenv/versions/anaconda3-2019.10/lib/python3.7/site-packages/ipykernel_launcher.py:8: RuntimeWarning: overflow encountered in exp\n",
      "  \n"
     ]
    },
    {
     "data": {
      "text/plain": [
       "0.0"
      ]
     },
     "execution_count": 72,
     "metadata": {},
     "output_type": "execute_result"
    }
   ],
   "source": [
    "# シグモイド関数(ロジスティック回帰)でもオーバーフロー気にしなきゃいけないわ！！\n",
    "\n",
    "# np.exp(100)/(1 + np.exp(100))           # これはちゃんと確率１になるが，\n",
    "# np.exp(1000)/(1 + np.exp(1000))      # これはオーバーフローで nan になってしまう．明らかに確率１と出て欲しいのに！\n",
    "\n",
    "1/(1+np.exp(-100))                             # 分母分子を exp(x)　で割ったこの形を使えば，　オーバーフローは起きても inf /　inf にならず 1/inf になるからセーフ．\n",
    "1/(1+np.exp(-1000))\n",
    "1/(1+np.exp(-(-1000)))"
   ]
  },
  {
   "cell_type": "markdown",
   "metadata": {},
   "source": [
    "## 3.5.3. ソフトマックス関数の特徴"
   ]
  },
  {
   "cell_type": "markdown",
   "metadata": {},
   "source": [
    "さっきから何回もメモで書いたが，\n",
    "\n",
    "> ソフトマックス関数を用いることで，問題に対して確率的（統計的）な対応ができるようになる\n",
    "\n",
    "っていうのが識別モデルの大きなメリット． PRML でやった決定理論を色々使える．棄却オプションとか．\n",
    "\n",
    "あとはまあ，確率を予測するようにすれば，ベルヌーイ試行を仮定することで尤度を作れて，自然に最尤法でパラメータ推定できる．"
   ]
  },
  {
   "cell_type": "markdown",
   "metadata": {},
   "source": [
    "> ソフトマックス関数を適用しても各要素の大小関係は変わらない．ただ分類を行いたいだけで確率は要らないときは，出力層のソフトマックス関数を省略して，それなりのコストがかかる指数関数の計算を避ける．\n",
    "\n",
    "確かに，これは重要．ビッグデータになるほどこの辺の差が顕著に出てきそう．"
   ]
  },
  {
   "cell_type": "markdown",
   "metadata": {},
   "source": [
    "> 機械学習は「学習」と「推論」の２つのフェーズに分けられ，前者がデータからのモデル構築，後者が新たなデータに対する予測\n",
    "\n",
    "この「推論 (inference)」という用語，けっこう一般的らしい．覚えとこう．  \n",
    "俺はこれまであんま触れなかったけど「新たなデータに対する予測＝推論」という感じ．  \n",
    "（selective inference, causal inference の inference とかとダブって若干気持ち悪いがしょうがない）"
   ]
  },
  {
   "cell_type": "markdown",
   "metadata": {},
   "source": [
    "## 3.5.4. 出力層のニューロンの数"
   ]
  },
  {
   "cell_type": "markdown",
   "metadata": {},
   "source": [
    "> (多クラス)分類タスクの時は，出力層にはクラスの個数分のニューロンを設定する\n",
    "\n",
    "多クラス分類のとき，多項ロジスティックだと K-1 個のモデルを作ってって感じで若干分かりづらいが，ニューラルネットだと自然な感じで良いな．"
   ]
  },
  {
   "cell_type": "markdown",
   "metadata": {},
   "source": [
    "# 3.6. 手書き数字認識"
   ]
  },
  {
   "cell_type": "markdown",
   "metadata": {},
   "source": [
    "> 推論処理は，ニューラルネットワークの順方向伝搬（forward propagation）とも言います\n",
    "\n",
    "これまでの用語の定義からして，それはそうだな"
   ]
  },
  {
   "cell_type": "markdown",
   "metadata": {},
   "source": [
    "> MNISTデータセット（手書き数字の画像データセット）\n",
    "\n",
    "機械学習(ニューラルネット), 画像認識における iris 的な存在．  \n",
    "集中講義でもやったので，あの時と結果とかコードを比べてみても面白いかも．  "
   ]
  },
  {
   "cell_type": "markdown",
   "metadata": {},
   "source": [
    "> 各ピクセルは 0 から 255 までの値をとります\n",
    "\n",
    "1バイト(8ビット)の2進数で表せるのは 2^8 = 256 通り．なので，1バイトではピクセルの輝度値を 0 から 255 までで表せる．"
   ]
  },
  {
   "cell_type": "markdown",
   "metadata": {},
   "source": [
    "> 本書では MNIST データセットのダウンロード・前処理用スクリプト `mnist.py` を GitHub で提供\n",
    "\n",
    "公式リポジトリ clone して，そこから dataset ディレクトリ (モジュール群) をコピーしてこっちに持ってきた．"
   ]
  },
  {
   "cell_type": "code",
   "execution_count": 2,
   "metadata": {},
   "outputs": [
    {
     "name": "stdout",
     "output_type": "stream",
     "text": [
      "['/Users/rui/research/zero_DL/chapter_3', '/Users/rui/.pyenv/versions/anaconda3-2019.10/lib/python37.zip', '/Users/rui/.pyenv/versions/anaconda3-2019.10/lib/python3.7', '/Users/rui/.pyenv/versions/anaconda3-2019.10/lib/python3.7/lib-dynload', '', '/Users/rui/.pyenv/versions/anaconda3-2019.10/lib/python3.7/site-packages', '/Users/rui/.pyenv/versions/anaconda3-2019.10/lib/python3.7/site-packages/aeosa', '/Users/rui/.pyenv/versions/anaconda3-2019.10/lib/python3.7/site-packages/IPython/extensions', '/Users/rui/.ipython']\n",
      "<class 'list'>\n",
      "..\n",
      "['/Users/rui/research/zero_DL/chapter_3', '/Users/rui/.pyenv/versions/anaconda3-2019.10/lib/python37.zip', '/Users/rui/.pyenv/versions/anaconda3-2019.10/lib/python3.7', '/Users/rui/.pyenv/versions/anaconda3-2019.10/lib/python3.7/lib-dynload', '', '/Users/rui/.pyenv/versions/anaconda3-2019.10/lib/python3.7/site-packages', '/Users/rui/.pyenv/versions/anaconda3-2019.10/lib/python3.7/site-packages/aeosa', '/Users/rui/.pyenv/versions/anaconda3-2019.10/lib/python3.7/site-packages/IPython/extensions', '/Users/rui/.ipython', '..']\n"
     ]
    }
   ],
   "source": [
    "import sys\n",
    "import os\n",
    "\n",
    "print(sys.path)\n",
    "# モジュールをインポートする際に見に行く場所のパス群\n",
    "# デフォルトだと conda とかでちゃんと install したサードパーティーライブラリが入ってるところとカレントにしかパスが通ってない．\n",
    "print(type(sys.path))\n",
    "# リスト型．\n",
    "print(os.pardir)\n",
    "# カレント(このipynbが入っている)ディレクトリの親ディレクトリへの相対パス．つまり一個上の階層への相対パス． parent directory.\n",
    "\n",
    "sys.path.append(os.pardir)  # カレントの親ディレクトリにも import のパスを通す（import の際に見に行かれるようにする）\n",
    "print(sys.path)\n",
    "\n",
    "from dataset.mnist import load_mnist"
   ]
  },
  {
   "cell_type": "markdown",
   "metadata": {},
   "source": [
    "`load_mnist()`　の仕様は，ソースの docstring を参照．↓\n",
    "\n",
    "```python\n",
    "def load_mnist(normalize=True, flatten=True, one_hot_label=False):\n",
    "    \"\"\"MNISTデータセットの読み込み\n",
    "    \n",
    "    Parameters\n",
    "    ----------\n",
    "    normalize : 画像のピクセル値を0.0~1.0に正規化する\n",
    "    one_hot_label :\n",
    "        one_hot_labelがTrueの場合、ラベルはone-hot配列として返す\n",
    "        one-hot配列とは、たとえば[0,0,1,0,0,0,0,0,0,0]のような配列\n",
    "    flatten : 画像を一次元配列に平にするかどうか\n",
    "    \n",
    "    Returns\n",
    "    -------\n",
    "    (訓練画像, 訓練ラベル), (テスト画像, テストラベル)\n",
    "    \"\"\"\n",
    "```"
   ]
  },
  {
   "cell_type": "code",
   "execution_count": 48,
   "metadata": {},
   "outputs": [
    {
     "name": "stdout",
     "output_type": "stream",
     "text": [
      "Downloading train-images-idx3-ubyte.gz ... \n",
      "Done\n",
      "Downloading train-labels-idx1-ubyte.gz ... \n",
      "Done\n",
      "Downloading t10k-images-idx3-ubyte.gz ... \n",
      "Done\n",
      "Downloading t10k-labels-idx1-ubyte.gz ... \n",
      "Done\n",
      "Converting train-images-idx3-ubyte.gz to NumPy Array ...\n",
      "Done\n",
      "Converting train-labels-idx1-ubyte.gz to NumPy Array ...\n",
      "Done\n",
      "Converting t10k-images-idx3-ubyte.gz to NumPy Array ...\n",
      "Done\n",
      "Converting t10k-labels-idx1-ubyte.gz to NumPy Array ...\n",
      "Done\n",
      "Creating pickle file ...\n",
      "Done!\n"
     ]
    },
    {
     "data": {
      "text/plain": [
       "((array([[0, 0, 0, ..., 0, 0, 0],\n",
       "         [0, 0, 0, ..., 0, 0, 0],\n",
       "         [0, 0, 0, ..., 0, 0, 0],\n",
       "         ...,\n",
       "         [0, 0, 0, ..., 0, 0, 0],\n",
       "         [0, 0, 0, ..., 0, 0, 0],\n",
       "         [0, 0, 0, ..., 0, 0, 0]], dtype=uint8),\n",
       "  array([5, 0, 4, ..., 5, 6, 8], dtype=uint8)),\n",
       " (array([[0, 0, 0, ..., 0, 0, 0],\n",
       "         [0, 0, 0, ..., 0, 0, 0],\n",
       "         [0, 0, 0, ..., 0, 0, 0],\n",
       "         ...,\n",
       "         [0, 0, 0, ..., 0, 0, 0],\n",
       "         [0, 0, 0, ..., 0, 0, 0],\n",
       "         [0, 0, 0, ..., 0, 0, 0]], dtype=uint8),\n",
       "  array([7, 2, 1, ..., 4, 5, 6], dtype=uint8)))"
      ]
     },
     "execution_count": 48,
     "metadata": {},
     "output_type": "execute_result"
    }
   ],
   "source": [
    "load_mnist(flatten=True, normalize=False)\n",
    "# 初回の実行でダウンロードして .pkl　生成がされるらしいので，最初にただ実行してみた．"
   ]
  },
  {
   "cell_type": "code",
   "execution_count": 8,
   "metadata": {},
   "outputs": [],
   "source": [
    "(x_train, t_train), (x_test, t_test) = load_mnist(flatten=True, normalize=False)"
   ]
  },
  {
   "cell_type": "code",
   "execution_count": 9,
   "metadata": {},
   "outputs": [
    {
     "name": "stdout",
     "output_type": "stream",
     "text": [
      "x_train : \n",
      "[[0 0 0 ... 0 0 0]\n",
      " [0 0 0 ... 0 0 0]\n",
      " [0 0 0 ... 0 0 0]\n",
      " ...\n",
      " [0 0 0 ... 0 0 0]\n",
      " [0 0 0 ... 0 0 0]\n",
      " [0 0 0 ... 0 0 0]]\n",
      "<class 'numpy.ndarray'> 2 (60000, 784) \n",
      "\n",
      "t_train : \n",
      "[5 0 4 ... 5 6 8]\n",
      "<class 'numpy.ndarray'> 1 (60000,) \n",
      "\n",
      "x_test : \n",
      "[[0 0 0 ... 0 0 0]\n",
      " [0 0 0 ... 0 0 0]\n",
      " [0 0 0 ... 0 0 0]\n",
      " ...\n",
      " [0 0 0 ... 0 0 0]\n",
      " [0 0 0 ... 0 0 0]\n",
      " [0 0 0 ... 0 0 0]]\n",
      "<class 'numpy.ndarray'> 2 (10000, 784) \n",
      "\n",
      "t_test\n",
      "[7 2 1 ... 4 5 6]\n",
      "<class 'numpy.ndarray'> 1 (10000,)\n"
     ]
    }
   ],
   "source": [
    "print(\"x_train : \")\n",
    "print(x_train)\n",
    "print(type(x_train), x_train.ndim, x_train.shape, \"\\n\")\n",
    "\n",
    "print(\"t_train : \")\n",
    "print(t_train)\n",
    "print(type(t_train), t_train.ndim, t_train.shape, \"\\n\")\n",
    "\n",
    "print(\"x_test : \")\n",
    "print(x_test)\n",
    "print(type(x_test), x_test.ndim, x_test.shape, \"\\n\")\n",
    "\n",
    "print(\"t_test\")\n",
    "print(t_test)\n",
    "print(type(t_test), t_test.ndim, t_test.shape)\n",
    "\n",
    "# 28 x 28 = 784 ピクセルの輝度値を行列じゃなく潰してベクトルとして扱うので， 784 次元変数ベクトルみたいになってる．"
   ]
  },
  {
   "cell_type": "code",
   "execution_count": 28,
   "metadata": {},
   "outputs": [
    {
     "name": "stdout",
     "output_type": "stream",
     "text": [
      "[[1 2 3]\n",
      " [4 5 6]]\n"
     ]
    }
   ],
   "source": [
    "print(np.array([1,2,3,4,5,6]).reshape(2, 3))"
   ]
  },
  {
   "cell_type": "code",
   "execution_count": 29,
   "metadata": {},
   "outputs": [
    {
     "name": "stdout",
     "output_type": "stream",
     "text": [
      "(784,)\n",
      "(28, 28)\n"
     ]
    }
   ],
   "source": [
    "img = x_train[0, :]\n",
    "print(img.shape)\n",
    "\n",
    "img = img.reshape(28, 28)\n",
    "print(img.shape)"
   ]
  },
  {
   "cell_type": "code",
   "execution_count": 10,
   "metadata": {},
   "outputs": [
    {
     "name": "stdout",
     "output_type": "stream",
     "text": [
      "<module 'PIL.Image' from '/Users/rui/.pyenv/versions/anaconda3-2019.10/lib/python3.7/site-packages/PIL/Image.py'>\n",
      "<class 'module'>\n"
     ]
    }
   ],
   "source": [
    "from PIL import Image\n",
    "print(Image)\n",
    "print(type(Image))"
   ]
  },
  {
   "cell_type": "code",
   "execution_count": 22,
   "metadata": {},
   "outputs": [
    {
     "name": "stdout",
     "output_type": "stream",
     "text": [
      "uint8\n"
     ]
    },
    {
     "data": {
      "text/plain": [
       "array([1, 2, 3, 4], dtype=uint8)"
      ]
     },
     "execution_count": 22,
     "metadata": {},
     "output_type": "execute_result"
    }
   ],
   "source": [
    "print(x_train.dtype)\n",
    "# 8ビットの符号なし整数型．MNIST では輝度値が 0〜255 (8ビット=1バイト分)　で表されてるので， load_mnist時に uint8 を使ったんだと思う．\n",
    "\n",
    "np.uint8([1,2,3,4])\n",
    "# 全部数値が入ってるリストを dtype=uint8 の ndarray にキャストできてるぽい．"
   ]
  },
  {
   "cell_type": "code",
   "execution_count": 24,
   "metadata": {},
   "outputs": [],
   "source": [
    "def show_img(img):\n",
    "    pil_img = Image.fromarray(np.uint8(img))\n",
    "    pil_img.show()"
   ]
  },
  {
   "cell_type": "code",
   "execution_count": 35,
   "metadata": {},
   "outputs": [
    {
     "name": "stdout",
     "output_type": "stream",
     "text": [
      "4\n"
     ]
    }
   ],
   "source": [
    "idx = 2\n",
    "img = x_train[idx, :].reshape(28, 28)\n",
    "label = t_train[idx]\n",
    "\n",
    "show_img(img)\n",
    "print(label)"
   ]
  },
  {
   "cell_type": "markdown",
   "metadata": {},
   "source": [
    "## 3.6.2. ニューラルネットワークの推論処理"
   ]
  },
  {
   "cell_type": "markdown",
   "metadata": {},
   "source": [
    "> １つ目の隠れ層が50個, ２つ目の隠れ層が100個のニューロンを持ち，この個数は任意に設定できます\n",
    "\n",
    "ハイパーパラメータの塊．"
   ]
  },
  {
   "cell_type": "code",
   "execution_count": 65,
   "metadata": {},
   "outputs": [],
   "source": [
    "class NN_given:\n",
    "    def __init__(self, W1, b1, W2, b2, W3, b3, activate, activate_out):\n",
    "        self.W1, self.b1, self.W2, self.b2, self.W3, self.b3 = W1, b1, W2, b2, W3, b3\n",
    "        self.activate, self.activate_out = activate, activate_out\n",
    "    def predict(self, x):\n",
    "        a1 = np.dot(x, self.W1) + self.b1    # 784 → 50\n",
    "        z1 = self.activate(a1)\n",
    "        a2 = np.dot(z1, self.W2) + self.b2  # 50 → 100\n",
    "        z2 = self.activate(a2)\n",
    "        a3 = np.dot(z2, self.W3) + self.b3  # 100 → 10\n",
    "        y = self.activate_out(a3)\n",
    "        return y\n",
    "\n",
    "def sigmoid(x):\n",
    "    return 1/(1+np.exp(-x))\n",
    "\n",
    "def softmax(x):\n",
    "    c = np.max(x)     # オーバーフロー対策\n",
    "    return np.exp(x - c)/np.sum(np.exp(x - c))"
   ]
  },
  {
   "cell_type": "code",
   "execution_count": 66,
   "metadata": {},
   "outputs": [
    {
     "name": "stdout",
     "output_type": "stream",
     "text": [
      "{'b2': array([-0.01471108, -0.07215131, -0.00155692,  0.12199665,  0.11603302,\n",
      "       -0.00754946,  0.04085451, -0.08496164,  0.02898045,  0.0199724 ,\n",
      "        0.19770803,  0.04365116, -0.06518728, -0.05226324,  0.0113163 ,\n",
      "        0.03049979,  0.04060355,  0.0695399 , -0.07778469,  0.0692313 ,\n",
      "       -0.09365533,  0.0548001 , -0.03843745,  0.02123107,  0.03793406,\n",
      "       -0.02806267, -0.01818407,  0.06870425,  0.0542943 ,  0.0674368 ,\n",
      "        0.06264312, -0.0233236 , -0.01589135,  0.01860516,  0.01839287,\n",
      "       -0.01568104, -0.07422207, -0.01606729, -0.02262172, -0.01007509,\n",
      "        0.0434415 , -0.12020151,  0.02802471, -0.07591944, -0.00533499,\n",
      "       -0.08935217, -0.0181419 ,  0.0330689 , -0.01812706, -0.07689384,\n",
      "       -0.02715412, -0.03847084, -0.05315471, -0.02153288,  0.06898243,\n",
      "        0.02431128, -0.00333816,  0.00817491,  0.03911701, -0.02924617,\n",
      "        0.07184725, -0.00356748,  0.02246175,  0.03987982, -0.04921926,\n",
      "        0.02454282,  0.05875788,  0.08505439, -0.00190306, -0.03044275,\n",
      "       -0.06383366,  0.0470311 , -0.12005549,  0.03573952, -0.04293387,\n",
      "        0.03283867, -0.03347731, -0.13659105, -0.00123189,  0.00096832,\n",
      "        0.04590394, -0.02517798, -0.02073979,  0.02005584,  0.010629  ,\n",
      "        0.01902938, -0.01046924,  0.05777885,  0.04737163, -0.04362756,\n",
      "        0.07450858,  0.05077952,  0.06648835,  0.04064002, -0.00265163,\n",
      "        0.00576806, -0.09652461, -0.05131314,  0.02199687, -0.04358608],\n",
      "      dtype=float32), 'W1': array([[-0.00741249, -0.00790439, -0.01307499, ...,  0.01978721,\n",
      "        -0.04331266, -0.01350104],\n",
      "       [-0.01029745, -0.01616653, -0.01228376, ...,  0.01920228,\n",
      "         0.02809811,  0.01450908],\n",
      "       [-0.01309184, -0.00244747, -0.0177224 , ...,  0.00944778,\n",
      "         0.01387301,  0.03393568],\n",
      "       ...,\n",
      "       [ 0.02242565, -0.0296145 , -0.06326169, ..., -0.01012643,\n",
      "         0.01120969,  0.01027199],\n",
      "       [-0.00761533,  0.02028973, -0.01498873, ...,  0.02735376,\n",
      "        -0.01229855,  0.02407041],\n",
      "       [ 0.00027915, -0.06848375,  0.00911191, ..., -0.03183098,\n",
      "         0.00743086, -0.04021148]], dtype=float32), 'b1': array([-0.06750315,  0.0695926 , -0.02730473,  0.02256093, -0.22001474,\n",
      "       -0.22038847,  0.04862635,  0.13499236,  0.23342554, -0.0487357 ,\n",
      "        0.10170191, -0.03076038,  0.15482435,  0.05212503,  0.06017235,\n",
      "       -0.03364862, -0.11218343, -0.26460695, -0.03323386,  0.13610415,\n",
      "        0.06354368,  0.04679805, -0.01621654, -0.05775835, -0.03108677,\n",
      "        0.10366164, -0.0845938 ,  0.11665157,  0.21852103,  0.04437255,\n",
      "        0.03378392, -0.01720384, -0.07383765,  0.16152057, -0.10621249,\n",
      "       -0.01646949,  0.00913961,  0.10238428,  0.00916639, -0.0564299 ,\n",
      "       -0.10607515,  0.09892716, -0.07136887, -0.06349134,  0.12461706,\n",
      "        0.02242282, -0.00047972,  0.04527043, -0.15179175,  0.10716812],\n",
      "      dtype=float32), 'W2': array([[-0.10694039,  0.01591247, -0.44349867, ...,  0.03561032,\n",
      "         0.14045963,  0.03964241],\n",
      "       [ 0.29911557, -0.03322235, -0.08902215, ..., -0.04722451,\n",
      "        -0.0972147 ,  0.2950258 ],\n",
      "       [ 0.06576645,  0.6330455 ,  0.02325344, ...,  0.05046809,\n",
      "         0.26831996, -0.13252524],\n",
      "       ...,\n",
      "       [-0.1839421 , -0.10925075,  0.25180233, ...,  0.06017017,\n",
      "         0.11689074,  0.28868544],\n",
      "       [ 0.10001627,  0.0899286 , -0.03874066, ...,  0.15217757,\n",
      "        -0.05744234, -0.00713823],\n",
      "       [-0.02220659, -0.05105179,  0.00777963, ..., -0.531206  ,\n",
      "        -0.4042084 ,  0.0090801 ]], dtype=float32), 'W3': array([[-4.21735764e-01,  6.89445496e-01,  8.78510177e-02,\n",
      "        -4.83838320e-01, -1.95891604e-01, -3.11136067e-01,\n",
      "         5.49542189e-01,  5.37674278e-02, -3.05000603e-01,\n",
      "         2.75984704e-02],\n",
      "       [-5.24320543e-01, -1.43624887e-01, -4.42160573e-03,\n",
      "         4.17745829e-01,  2.15625867e-01, -2.56584466e-01,\n",
      "        -1.00939667e+00,  8.12479675e-01, -3.98552269e-02,\n",
      "         8.23425591e-01],\n",
      "       [ 6.82799876e-01, -5.12037337e-01, -4.41083580e-01,\n",
      "        -8.21710154e-02,  3.19505751e-01,  1.08093655e+00,\n",
      "         2.96021044e-01, -4.06458199e-01, -3.87590617e-01,\n",
      "        -9.11374271e-01],\n",
      "       [ 1.55144155e-01,  6.78902492e-02,  9.47823405e-01,\n",
      "        -1.68429948e-02, -5.80456555e-01,  3.27762365e-02,\n",
      "         3.62194031e-01,  7.43931830e-01, -8.67070615e-01,\n",
      "        -8.71464610e-01],\n",
      "       [ 5.05435288e-01, -2.73010045e-01, -3.86344641e-02,\n",
      "         1.62854403e-01, -6.88129485e-01,  3.32544267e-01,\n",
      "         2.02865437e-01,  9.50981900e-02,  1.51449129e-01,\n",
      "        -7.51806647e-02],\n",
      "       [-1.96135119e-01, -1.86595306e-01, -7.12956667e-01,\n",
      "         1.86611667e-01,  4.71210986e-01,  2.42333114e-01,\n",
      "        -6.10382736e-01,  7.51007020e-01, -3.54771428e-02,\n",
      "         3.63117427e-01],\n",
      "       [-3.40776503e-01,  1.12583566e+00, -7.88639635e-02,\n",
      "        -2.40077689e-01, -1.88947007e-01,  2.77629793e-01,\n",
      "         5.58597930e-02,  7.87557483e-01, -7.21895814e-01,\n",
      "        -6.01844311e-01],\n",
      "       [-5.99524677e-01,  7.77958393e-01, -6.34838939e-01,\n",
      "        -4.66428464e-03,  7.62679726e-02, -5.22314072e-01,\n",
      "        -5.41155636e-01,  1.18006003e+00, -5.90134799e-01,\n",
      "         6.01088047e-01],\n",
      "       [-3.76633376e-01,  5.10982513e-01, -2.23146994e-02,\n",
      "        -2.52363771e-01, -3.46366763e-01,  2.64313281e-01,\n",
      "         3.83371353e-01, -7.59539828e-02,  1.97959334e-01,\n",
      "        -4.29215163e-01],\n",
      "       [ 6.50213897e-01, -3.07582080e-01, -1.82832479e-01,\n",
      "         3.61862123e-01, -2.20673040e-01,  2.36749575e-01,\n",
      "         1.46889806e-01, -8.55163217e-01, -4.77893144e-01,\n",
      "         5.95522761e-01],\n",
      "       [ 9.80530322e-01, -2.83191472e-01,  4.37024772e-01,\n",
      "         3.36801678e-01, -7.04811275e-01,  5.14311731e-01,\n",
      "         3.63065779e-01,  1.93833143e-01, -9.63333666e-01,\n",
      "        -9.99653816e-01],\n",
      "       [-5.14112294e-01, -5.21245450e-02,  8.73817950e-02,\n",
      "         6.49854317e-02, -6.79773763e-02,  5.75620718e-02,\n",
      "         2.17452496e-02,  2.97408521e-01,  6.58227876e-02,\n",
      "         5.48533797e-02],\n",
      "       [-1.22029677e-01, -5.97060800e-01, -1.67890251e-01,\n",
      "        -7.57286906e-01,  3.32458198e-01,  4.26246405e-01,\n",
      "        -5.21180809e-01,  2.07759365e-01, -3.89716327e-02,\n",
      "         7.81422555e-01],\n",
      "       [ 1.54342026e-01, -3.68901044e-01,  5.82112253e-01,\n",
      "         5.15596330e-01, -5.64041555e-01, -4.99413550e-01,\n",
      "        -8.81392837e-01,  2.10159346e-01,  1.86985135e-01,\n",
      "        -4.38510999e-02],\n",
      "       [ 4.54860330e-01, -3.00265312e-01,  6.81924820e-01,\n",
      "        -2.64147162e-01, -2.18347400e-01,  1.88041180e-01,\n",
      "         3.81713420e-01, -7.35825658e-01,  2.48639315e-01,\n",
      "        -4.43372279e-01],\n",
      "       [-5.25331438e-01,  1.18984044e+00,  3.92173350e-01,\n",
      "         6.12658978e-01, -6.09629095e-01, -1.64488718e-01,\n",
      "        -4.21452105e-01, -1.57024071e-01,  4.09224838e-01,\n",
      "        -4.47212726e-01],\n",
      "       [ 6.64840162e-01, -4.77979153e-01, -2.65062183e-01,\n",
      "         6.36108816e-01, -1.42231810e+00,  3.43148038e-02,\n",
      "        -1.16741645e+00,  7.00149655e-01,  1.24187134e-01,\n",
      "         9.88344133e-01],\n",
      "       [ 9.01858881e-02,  1.87217399e-01,  2.40680173e-01,\n",
      "         2.17940882e-01, -4.56552237e-01,  1.17312826e-01,\n",
      "         1.69359997e-01, -4.43112820e-01,  3.64482552e-01,\n",
      "        -1.11816239e+00],\n",
      "       [ 4.91134822e-01, -9.00796771e-01, -5.36716223e-01,\n",
      "        -7.89842069e-01,  3.83926064e-01,  2.72480428e-01,\n",
      "        -2.04326913e-01,  1.29462862e-02,  8.45103979e-01,\n",
      "         4.70017105e-01],\n",
      "       [ 5.84113061e-01, -5.51996469e-01,  6.50859475e-01,\n",
      "         8.69455695e-01, -1.85319453e-01, -6.97416365e-01,\n",
      "        -1.75041392e-01,  9.19872299e-02, -2.56296039e-01,\n",
      "        -7.93265477e-02],\n",
      "       [-6.92425907e-01, -1.96424216e-01, -2.89716989e-01,\n",
      "         4.59242135e-01,  3.48947614e-01, -1.67159468e-01,\n",
      "         1.60998300e-01, -8.09544206e-01,  6.75078809e-01,\n",
      "         1.56182379e-01],\n",
      "       [-1.29524320e-02,  3.38228792e-01,  5.93463369e-02,\n",
      "        -6.87147900e-02, -5.87453544e-01,  7.74757266e-02,\n",
      "        -2.76282996e-01,  2.38401830e-01,  6.18681967e-01,\n",
      "        -5.51157482e-02],\n",
      "       [-1.18962085e+00,  2.37674057e-01,  7.05483854e-02,\n",
      "         2.19739154e-01,  8.16889703e-01, -3.32062960e-01,\n",
      "        -5.38534045e-01,  1.60113409e-01, -8.55953246e-02,\n",
      "         5.15658796e-01],\n",
      "       [ 4.10203546e-01,  6.13717549e-03,  5.66948950e-01,\n",
      "        -2.59074479e-01, -1.50069296e-01,  2.25018293e-01,\n",
      "         4.06786650e-01, -7.35297143e-01, -3.46720248e-01,\n",
      "        -2.61616319e-01],\n",
      "       [ 4.59970772e-01, -4.31826115e-01, -8.56852472e-01,\n",
      "         7.73031771e-01,  1.38916939e-01,  5.60679853e-01,\n",
      "         2.40944013e-01, -8.48280013e-01, -3.33365619e-01,\n",
      "         4.76054907e-01],\n",
      "       [-9.88283753e-02, -1.76046476e-01,  5.23827970e-01,\n",
      "         4.93311286e-01, -3.64566833e-01, -6.25113010e-01,\n",
      "        -1.03237808e-01,  1.33148193e-01, -2.17261493e-01,\n",
      "         4.12722528e-01],\n",
      "       [ 1.01385760e+00, -8.49169970e-01, -5.17473184e-02,\n",
      "         1.36904821e-01, -2.97809035e-01, -2.57933736e-01,\n",
      "         9.45847854e-02,  1.84433058e-01, -9.48848128e-02,\n",
      "        -1.27696171e-01],\n",
      "       [ 1.10258982e-01, -1.13074876e-01,  3.61660570e-01,\n",
      "         6.37016416e-01, -9.38879609e-01,  4.03465390e-01,\n",
      "        -8.38840306e-01,  8.87874886e-02,  6.13263905e-01,\n",
      "        -2.62609452e-01],\n",
      "       [ 3.35207991e-02, -3.10817391e-01,  6.60446942e-01,\n",
      "        -8.03743303e-02, -3.53499681e-01,  1.35674715e-01,\n",
      "         7.04031825e-01, -5.38375497e-01,  2.68499017e-01,\n",
      "        -3.45674306e-01],\n",
      "       [ 5.69811165e-01, -5.41205049e-01,  2.31889188e-02,\n",
      "         4.89905447e-01, -2.72151738e-01,  5.81560850e-01,\n",
      "        -1.45812467e-01, -6.32519484e-01,  1.47586465e-01,\n",
      "        -4.30490822e-01],\n",
      "       [-1.78033903e-01,  4.55413640e-01,  2.76871175e-01,\n",
      "         7.92362913e-02, -1.37377933e-01, -5.41430473e-01,\n",
      "         1.04435158e+00, -2.25798294e-01, -5.47417521e-01,\n",
      "        -6.21576250e-01],\n",
      "       [-3.71773511e-01,  1.31890997e-01,  9.79362205e-02,\n",
      "         6.88198984e-01, -1.36723658e-02, -4.33259517e-01,\n",
      "         2.70418584e-01,  6.90640584e-02, -7.96580434e-01,\n",
      "        -5.26694544e-02],\n",
      "       [-7.46119380e-01,  9.01669323e-01, -2.98285723e-01,\n",
      "        -6.93346620e-01,  2.22594962e-01,  3.04485057e-02,\n",
      "         6.12528384e-01,  2.91027486e-01, -6.12122193e-02,\n",
      "         2.26576433e-01],\n",
      "       [ 3.48814666e-01, -4.58619356e-01, -6.81712866e-01,\n",
      "        -8.45831633e-01,  3.85846436e-01,  3.74807537e-01,\n",
      "         6.80784345e-01,  4.05046254e-01, -3.60009670e-01,\n",
      "         4.06914890e-01],\n",
      "       [-2.68160850e-01,  1.07725048e+00, -2.42447808e-01,\n",
      "        -2.51773655e-01, -4.94481117e-01,  7.93285251e-01,\n",
      "        -1.86872244e-01,  2.33764172e-01,  7.65040368e-02,\n",
      "        -5.82407176e-01],\n",
      "       [-2.11705387e-01, -1.51310667e-01,  4.11912441e-01,\n",
      "        -3.43303621e-01,  8.63409936e-01, -1.09486476e-01,\n",
      "         3.09372574e-01,  9.14473683e-02, -8.08858573e-01,\n",
      "        -4.53698725e-01],\n",
      "       [-8.46252620e-01,  2.60528892e-01, -2.08791450e-01,\n",
      "         3.45685095e-01,  3.24550092e-01,  1.55364513e-01,\n",
      "        -7.04575300e-01, -3.74434799e-01,  6.25603318e-01,\n",
      "         2.56761312e-01],\n",
      "       [ 1.74457684e-01,  1.81623884e-02,  5.10722816e-01,\n",
      "         1.43729225e-01, -5.16600788e-01, -1.29177034e-01,\n",
      "        -2.84929127e-01,  7.80223534e-02, -1.95045814e-01,\n",
      "        -3.94748539e-01],\n",
      "       [-9.24672037e-02, -2.23728850e-01, -9.66394618e-02,\n",
      "        -4.45146620e-01,  6.13103390e-01, -3.68567199e-01,\n",
      "         3.70431751e-01,  2.21393555e-01, -2.72072498e-02,\n",
      "         5.77588558e-01],\n",
      "       [ 4.03020531e-01, -2.55338818e-01, -8.18292499e-01,\n",
      "        -7.23324642e-02, -1.96062587e-02,  1.01438415e+00,\n",
      "        -1.16559081e-01,  8.81542623e-01, -4.94637221e-01,\n",
      "         1.04218423e-01],\n",
      "       [ 2.29111224e-01,  7.30729550e-02,  1.22222453e-01,\n",
      "         3.62838387e-01, -3.36847633e-01,  3.46625239e-01,\n",
      "         4.59826976e-01, -1.19660234e+00,  6.46007299e-01,\n",
      "        -3.92430216e-01],\n",
      "       [-6.43994093e-01, -2.67290205e-01,  9.30678025e-02,\n",
      "         3.94550234e-01,  1.39838919e-01, -1.74355850e-01,\n",
      "        -6.76944792e-01, -2.02130079e-01,  7.06950128e-01,\n",
      "         5.73860466e-01],\n",
      "       [ 1.07093401e-01, -2.68440068e-01, -2.92150110e-01,\n",
      "         1.73880085e-01, -3.07512134e-01, -3.96545947e-01,\n",
      "        -1.84642792e-01,  3.94368291e-01, -4.25530560e-02,\n",
      "         3.89361382e-01],\n",
      "       [-9.44061875e-01,  3.12739849e-01,  7.40508661e-02,\n",
      "         3.96307945e-01,  5.65728784e-01, -7.04721391e-01,\n",
      "        -5.46964332e-02, -2.59483963e-01,  1.21336356e-01,\n",
      "         1.15879285e+00],\n",
      "       [-3.42181930e-03, -2.76601106e-01,  1.77765489e-01,\n",
      "        -1.00918278e-01,  5.06949902e-01,  1.84735537e-01,\n",
      "         3.32832158e-01, -2.01131087e-02, -9.75943431e-02,\n",
      "        -6.96182191e-01],\n",
      "       [ 3.78743917e-01, -1.30411685e-01,  5.25011957e-01,\n",
      "        -4.92531627e-01,  8.44208971e-02, -4.36175138e-01,\n",
      "         4.46968526e-01, -6.69526532e-02, -2.38409087e-01,\n",
      "         1.86576545e-01],\n",
      "       [-1.38466686e-01,  2.03825533e-01,  7.62569189e-01,\n",
      "         5.65001488e-01, -4.62089807e-01, -9.06799734e-02,\n",
      "        -3.04654509e-01, -3.25737983e-01,  3.49818558e-01,\n",
      "        -2.02839971e-01],\n",
      "       [ 2.19535548e-02, -5.79012573e-01, -2.61314094e-01,\n",
      "        -7.66233563e-01,  6.20492339e-01,  2.91753441e-01,\n",
      "         3.10217768e-01,  1.84355244e-01, -3.97317529e-01,\n",
      "         1.77944213e-01],\n",
      "       [ 8.36480111e-02,  1.80452511e-01, -1.26577318e-01,\n",
      "         1.01459846e-01, -4.49865282e-01,  2.09935844e-01,\n",
      "        -8.78130078e-01,  3.66405249e-01, -5.88898994e-02,\n",
      "         1.14128381e-01],\n",
      "       [ 4.04730767e-01, -2.30980113e-01, -2.02063665e-01,\n",
      "        -8.40371922e-02,  3.85631770e-01, -2.53033131e-01,\n",
      "        -7.08307028e-01,  4.86081317e-02,  5.63206136e-01,\n",
      "        -2.45178029e-01],\n",
      "       [ 1.23736739e-01,  6.76029548e-03, -4.96723533e-01,\n",
      "         1.10396254e+00,  9.44059342e-02,  1.11372745e+00,\n",
      "         1.17447861e-02, -6.46701455e-01, -4.05388534e-01,\n",
      "        -6.19069815e-01],\n",
      "       [-4.22820002e-01,  1.78682953e-01, -3.56148094e-01,\n",
      "         2.37796769e-01, -3.54685962e-01,  3.11215729e-01,\n",
      "         4.49742610e-03, -4.62334067e-01,  1.25280845e+00,\n",
      "         2.57526368e-01],\n",
      "       [ 5.01734205e-03, -2.78115179e-02,  8.33090007e-01,\n",
      "        -9.38227713e-01,  4.41729516e-01, -2.41064683e-01,\n",
      "         2.70801604e-01, -2.75141865e-01,  2.39632681e-01,\n",
      "        -2.43629783e-01],\n",
      "       [ 1.65217429e-01,  1.71752870e-01, -3.43052834e-01,\n",
      "        -6.45057321e-01,  4.53449517e-01,  1.79140553e-01,\n",
      "         4.08720821e-01, -8.79922092e-01,  4.29752409e-01,\n",
      "         3.10203969e-01],\n",
      "       [ 4.18428481e-01,  6.94155693e-01,  3.97938192e-01,\n",
      "         4.51456159e-01, -7.18708575e-01,  9.63209383e-03,\n",
      "        -4.92072105e-01,  5.09976700e-04, -2.95970529e-01,\n",
      "        -4.95860398e-01],\n",
      "       [-1.76199555e-01,  7.09368765e-01, -2.31948897e-01,\n",
      "         3.25359583e-01, -4.63672340e-01,  7.24577367e-01,\n",
      "        -4.43653435e-01, -1.68254837e-01,  2.95370251e-01,\n",
      "        -4.97434855e-01],\n",
      "       [-1.87396109e-01, -2.23947570e-01,  2.42886275e-01,\n",
      "        -2.86557496e-01,  2.73342788e-01, -1.13700256e-02,\n",
      "        -3.06602985e-01,  5.72437823e-01, -2.42054805e-01,\n",
      "         3.46188515e-01],\n",
      "       [-1.17365503e+00,  5.90703338e-02, -1.56762972e-01,\n",
      "         1.38338506e-01,  6.11611664e-01, -1.62515834e-01,\n",
      "        -2.27308512e-01,  5.09866297e-01,  7.78953657e-02,\n",
      "        -8.07275623e-03],\n",
      "       [-1.22156359e-01, -2.62149960e-01, -2.96030581e-01,\n",
      "        -6.09369529e-03,  8.27431440e-01,  1.45755662e-02,\n",
      "         1.35886416e-01,  4.84385580e-01, -6.17888629e-01,\n",
      "        -2.57963389e-01],\n",
      "       [-1.18745811e-01, -3.78561169e-02,  8.41072202e-02,\n",
      "         1.59376860e-01,  2.78664678e-01, -5.57438016e-01,\n",
      "        -1.06849708e-01,  7.62400031e-02, -1.46159276e-01,\n",
      "         6.71272278e-01],\n",
      "       [-4.58585024e-01, -2.70307302e-01,  8.93705249e-01,\n",
      "         4.14883375e-01,  5.04897237e-01, -5.52910447e-01,\n",
      "         7.95029774e-02,  3.26490283e-01, -4.37226027e-01,\n",
      "        -1.50011420e-01],\n",
      "       [-2.27586448e-01,  2.70228744e-01, -1.38651179e-02,\n",
      "        -1.68369621e-01, -6.68714801e-03,  1.84312925e-01,\n",
      "        -2.07858533e-01, -7.48970136e-02,  2.81839728e-01,\n",
      "         1.62073016e-01],\n",
      "       [-2.93510854e-01,  5.90191126e-01, -8.06541979e-01,\n",
      "         4.55247253e-01, -6.28962517e-02,  4.05282497e-01,\n",
      "        -8.00064087e-01,  1.01426566e+00, -9.47925091e-01,\n",
      "         1.12049413e+00],\n",
      "       [ 1.03260410e+00, -3.75866979e-01, -2.32749850e-01,\n",
      "         3.54511850e-02,  1.59004685e-02,  1.35123044e-01,\n",
      "        -1.82888061e-01,  5.62692165e-01, -7.38840044e-01,\n",
      "        -1.65996298e-01],\n",
      "       [-3.03140342e-01, -3.99403989e-01, -1.24023721e-01,\n",
      "         8.09619203e-02,  6.03184886e-02, -3.47880661e-01,\n",
      "        -3.64323795e-01,  7.73909748e-01, -5.57690300e-02,\n",
      "         7.16391385e-01],\n",
      "       [-9.02440190e-01,  4.48047310e-01,  3.87582779e-01,\n",
      "        -1.07054925e+00,  6.14855111e-01, -4.32848215e-01,\n",
      "         6.89762652e-01,  1.21512324e-01,  1.68398306e-01,\n",
      "        -5.61287642e-01],\n",
      "       [-6.52550608e-02,  5.19375086e-01,  2.36409321e-01,\n",
      "         1.48231626e-01, -1.71541229e-01,  4.79659773e-02,\n",
      "         6.95545554e-01, -7.34554410e-01,  5.00819862e-01,\n",
      "        -8.43456626e-01],\n",
      "       [-5.33281922e-01,  5.26653945e-01,  1.57454126e-02,\n",
      "         1.46121949e-01,  2.76504960e-02, -8.91758129e-02,\n",
      "         4.62411702e-01,  5.36043644e-02,  2.31896397e-02,\n",
      "        -6.53083622e-01],\n",
      "       [ 3.93885463e-01,  2.22290620e-01, -8.66812587e-01,\n",
      "        -4.42612439e-01, -1.09500468e-01,  3.44947040e-01,\n",
      "         4.43797231e-01, -3.26241434e-01, -1.91667125e-01,\n",
      "         2.68693328e-01],\n",
      "       [ 5.09423316e-01, -1.10831499e+00, -6.63363814e-01,\n",
      "         6.10601194e-02,  4.62890774e-01,  2.16605678e-01,\n",
      "        -2.04363316e-01, -3.48413497e-01,  5.46411932e-01,\n",
      "         1.59806624e-01],\n",
      "       [ 5.03182411e-01, -4.58128005e-01, -1.23811312e-01,\n",
      "        -7.70608895e-03, -5.03727078e-01, -1.03737101e-01,\n",
      "        -6.97336435e-01,  8.40921402e-02,  9.15018559e-01,\n",
      "         4.06962276e-01],\n",
      "       [-3.36555511e-01,  2.32747003e-01, -6.51690245e-01,\n",
      "         1.92894682e-01,  4.90722917e-02,  4.82812226e-01,\n",
      "         5.17001033e-01, -3.74707580e-01, -7.26062572e-03,\n",
      "        -2.24724170e-02],\n",
      "       [-8.20727646e-01,  2.77037054e-01, -4.00716156e-01,\n",
      "        -6.01541400e-01,  5.41227221e-01, -1.07606472e-02,\n",
      "         1.13190107e-01, -7.11759388e-01,  7.47027993e-01,\n",
      "         3.95591497e-01],\n",
      "       [-9.64956045e-01,  6.50479198e-01,  1.57247171e-01,\n",
      "         1.21039891e+00, -6.58656538e-01, -2.88676590e-01,\n",
      "        -5.25724113e-01,  6.54611349e-01, -3.65922421e-01,\n",
      "         4.67684865e-02],\n",
      "       [-4.69699763e-02, -3.76960456e-01, -8.73867750e-01,\n",
      "        -2.19822064e-01,  6.68559313e-01,  5.76594114e-01,\n",
      "        -2.38980711e-01,  1.74888268e-01, -1.48410887e-01,\n",
      "         5.87270916e-01],\n",
      "       [ 3.56634349e-01, -5.18213026e-02,  9.20258999e-01,\n",
      "        -1.40335053e-01, -4.26269978e-01, -6.22207582e-01,\n",
      "         5.75894825e-02,  5.12691498e-01, -2.06441224e-01,\n",
      "        -2.68630385e-01],\n",
      "       [-3.19506019e-01,  2.53038436e-01,  1.83337316e-01,\n",
      "        -2.11295307e-01, -5.53449214e-01, -4.45205271e-01,\n",
      "        -1.75601929e-01,  4.42056775e-01,  6.44582987e-01,\n",
      "         2.00125635e-01],\n",
      "       [-7.43463695e-01,  2.60086924e-01, -1.95406988e-01,\n",
      "        -4.23818171e-01,  8.64849150e-01, -2.67847985e-01,\n",
      "        -1.79303423e-01, -4.71354812e-01,  5.73067427e-01,\n",
      "         3.13313872e-01],\n",
      "       [-2.63424993e-01, -2.83117831e-01, -2.91389525e-01,\n",
      "         5.06457686e-01,  7.84329653e-01, -5.26254058e-01,\n",
      "         7.48095810e-01, -4.18872535e-01, -8.39335993e-02,\n",
      "         2.52932400e-01],\n",
      "       [ 4.14991900e-02, -4.03793097e-01, -1.95395365e-01,\n",
      "         2.11023405e-01,  1.32343337e-01,  2.31272504e-01,\n",
      "        -1.18078411e+00,  1.86573476e-01,  7.68505335e-02,\n",
      "         3.85415733e-01],\n",
      "       [ 1.09860265e+00, -1.09753442e+00,  3.80715638e-01,\n",
      "        -6.38348997e-01, -1.58655971e-01,  1.94847152e-01,\n",
      "        -7.95399770e-02,  9.50471818e-01, -3.16824853e-01,\n",
      "        -2.83558935e-01],\n",
      "       [-2.77928740e-01,  2.24254742e-01, -3.28038484e-01,\n",
      "         2.36775950e-01,  4.65092897e-01,  1.14463799e-01,\n",
      "        -4.18108590e-02,  1.95581898e-01, -7.47340381e-01,\n",
      "        -2.79023498e-01],\n",
      "       [ 7.56891370e-02, -1.96978986e-01,  6.49631858e-01,\n",
      "         4.44254547e-01,  4.46472913e-01, -2.43867710e-01,\n",
      "         3.44643325e-01, -6.73000336e-01,  1.98133841e-01,\n",
      "        -7.13343263e-01],\n",
      "       [ 3.50795746e-01, -2.43827224e-01,  2.70755768e-01,\n",
      "        -1.88798487e-01,  2.67679513e-01, -2.67900437e-01,\n",
      "        -2.25820035e-01,  1.41538918e-01, -6.25311971e-01,\n",
      "        -7.91989092e-04],\n",
      "       [ 6.04720116e-01, -1.23945558e+00, -9.89200622e-02,\n",
      "        -8.47476780e-01,  1.88840643e-01,  1.78689778e-01,\n",
      "         3.30614984e-01,  2.13386491e-01,  1.40828237e-01,\n",
      "         5.96347034e-01],\n",
      "       [-1.29010156e-01, -4.19559628e-01,  8.10783267e-01,\n",
      "        -7.79421180e-02, -6.39355540e-01,  1.82476446e-01,\n",
      "         4.43780273e-02,  2.43306741e-01,  3.22627991e-01,\n",
      "        -6.96950316e-01],\n",
      "       [-2.65945554e-01,  2.54204452e-01, -2.81551868e-01,\n",
      "         3.05856839e-02,  3.32366735e-01, -2.72288859e-01,\n",
      "        -1.56741664e-01,  7.37876654e-01, -3.42516750e-01,\n",
      "        -3.38515751e-02],\n",
      "       [-2.21063226e-01, -1.61017135e-01, -3.43953133e-01,\n",
      "         7.71231763e-03,  3.99634361e-01,  4.22857910e-01,\n",
      "         1.07494044e+00,  1.67980686e-01, -5.57168424e-01,\n",
      "        -9.82021630e-01],\n",
      "       [-3.34168285e-01,  4.13684517e-01,  8.20092857e-02,\n",
      "         2.00068444e-01, -6.36684000e-01,  6.32712722e-01,\n",
      "         6.26974523e-01, -7.68007815e-01,  7.41086155e-02,\n",
      "        -7.47185767e-01],\n",
      "       [-1.13031104e-01,  2.84815133e-01,  4.20125455e-01,\n",
      "        -4.12524790e-01,  2.86876053e-01, -5.96397281e-01,\n",
      "        -6.13868050e-02, -2.01329246e-01,  1.37402400e-01,\n",
      "         4.73863035e-02],\n",
      "       [-8.77382278e-01,  7.03926206e-01, -5.87477982e-01,\n",
      "         8.03793550e-01, -5.38776457e-01,  8.71291935e-01,\n",
      "        -4.21437055e-01,  1.79496706e-01, -2.01206416e-01,\n",
      "         2.20881462e-01],\n",
      "       [ 4.79993403e-01, -3.88967425e-01,  6.42738879e-01,\n",
      "        -2.66709924e-01, -2.35347107e-01, -5.27117729e-01,\n",
      "         2.24357635e-01,  4.09907281e-01, -2.55028307e-01,\n",
      "        -3.98389012e-01],\n",
      "       [-2.36967623e-01,  2.08492681e-01,  4.95875329e-02,\n",
      "        -2.54601955e-01, -1.96262509e-01,  2.20791083e-02,\n",
      "         5.87105930e-01, -1.76071987e-01, -2.93505043e-01,\n",
      "        -6.90922514e-02],\n",
      "       [ 3.72552484e-01,  1.13524333e-01,  1.47908121e-01,\n",
      "        -5.87250233e-01, -5.45590937e-01,  2.20800832e-01,\n",
      "        -1.86717466e-01, -2.76110709e-01,  1.63341820e-01,\n",
      "         9.27756205e-02],\n",
      "       [ 6.91043854e-01, -7.39305258e-01,  3.66775483e-01,\n",
      "         2.29010403e-01, -2.62648702e-01, -3.35895628e-01,\n",
      "         4.16883469e-01, -4.66414630e-01, -4.81522113e-01,\n",
      "         5.41691422e-01],\n",
      "       [-5.42117991e-02,  8.16400051e-02, -2.16311708e-01,\n",
      "        -6.47027910e-01,  4.48576599e-01, -2.78799266e-01,\n",
      "         6.27859950e-01, -3.13865662e-01,  3.10088933e-01,\n",
      "         5.49431086e-01],\n",
      "       [-4.22955692e-01,  4.71692123e-02,  5.09801149e-01,\n",
      "        -4.14053082e-01,  1.48667157e-01, -1.13204829e-01,\n",
      "         1.46537170e-01, -8.12405765e-01,  7.64870703e-01,\n",
      "        -9.93795879e-03],\n",
      "       [-4.50043291e-01,  7.81999648e-01,  2.15509236e-01,\n",
      "        -3.13456476e-01, -4.41162616e-01, -8.88375938e-02,\n",
      "         1.30276158e-01, -7.62776807e-02,  4.38656509e-01,\n",
      "        -3.53991002e-01],\n",
      "       [-5.44507623e-01,  5.37671924e-01,  2.79337078e-01,\n",
      "         6.31389797e-01, -3.13700497e-01, -9.68888775e-02,\n",
      "        -8.03692937e-01,  3.23311478e-01,  5.13087690e-01,\n",
      "        -3.67015935e-02],\n",
      "       [ 1.07227898e+00, -3.73002291e-01, -3.47672790e-01,\n",
      "        -6.34944439e-01, -2.26390660e-01,  8.66467118e-01,\n",
      "        -1.20632663e-01,  1.60931930e-01, -2.61490524e-01,\n",
      "         3.17717306e-02]], dtype=float32), 'b3': array([-0.06023985,  0.00932628, -0.01359946,  0.02167128,  0.0107372 ,\n",
      "        0.06619699, -0.08397342, -0.00912251,  0.00576962,  0.0532335 ],\n",
      "      dtype=float32)}\n",
      "<class 'dict'> dict_keys(['b2', 'W1', 'b1', 'W2', 'W3', 'b3'])\n"
     ]
    }
   ],
   "source": [
    "import pandas as pd\n",
    "given_weight = pd.read_pickle(\"sample_weight.pkl\")             # pandas で DataFrame形式だけじゃなくディクショナリ形式の pickle も読める．\n",
    "\n",
    "# import pickle\n",
    "# with open(\"sample_weight.pkl\", \"rb\") as f:           # rb は read binary\n",
    "#     given_weight = pickle.load(f)\n",
    "\n",
    "print(given_weight)\n",
    "print(type(given_weight), given_weight.keys())"
   ]
  },
  {
   "cell_type": "code",
   "execution_count": 67,
   "metadata": {},
   "outputs": [],
   "source": [
    "nn_mnist = NN_given(\n",
    "    W1=given_weight[\"W1\"], b1=given_weight[\"b1\"],\n",
    "    W2=given_weight[\"W2\"], b2=given_weight[\"b2\"],\n",
    "    W3=given_weight[\"W3\"], b3=given_weight[\"b3\"],\n",
    "    activate=sigmoid, activate_out=softmax\n",
    ")"
   ]
  },
  {
   "cell_type": "code",
   "execution_count": 94,
   "metadata": {},
   "outputs": [],
   "source": [
    "# 与えられたモデル(重み)は， normalize したデータから学習したものらしい． なので当然，テストデータも normalize させる．\n",
    "(x_train, t_train), (x_test, t_test) = load_mnist(normalize=True, flatten=True, one_hot_label=False)"
   ]
  },
  {
   "cell_type": "code",
   "execution_count": 95,
   "metadata": {},
   "outputs": [
    {
     "name": "stdout",
     "output_type": "stream",
     "text": [
      "[3.0314158e-08 9.8850071e-01 1.7312473e-03 2.2392001e-03 8.4456326e-05\n",
      " 2.9864057e-04 3.4739434e-05 4.7724475e-03 1.9128988e-03 4.2562996e-04] 1.0\n",
      "1\n",
      "1\n"
     ]
    }
   ],
   "source": [
    "idx=5\n",
    "prob = nn_mnist.predict(x=x_test[idx, :])\n",
    "print(prob, np.sum(prob))\n",
    "print(np.argmax(prob))\n",
    "print(t_test[idx])"
   ]
  },
  {
   "cell_type": "code",
   "execution_count": 96,
   "metadata": {},
   "outputs": [],
   "source": [
    "cnt = 0\n",
    "for i in range(x_test.shape[0]):   # len(x_test)\n",
    "    prob  = nn_mnist.predict(x=x_test[i, :])   # x_test[i]\n",
    "    if np.argmax(prob) == t_test[i]:\n",
    "        cnt += 1"
   ]
  },
  {
   "cell_type": "code",
   "execution_count": 97,
   "metadata": {},
   "outputs": [
    {
     "name": "stdout",
     "output_type": "stream",
     "text": [
      "Accuracy : 0.9352\n"
     ]
    }
   ],
   "source": [
    "# print(\"Accuracy : \" + str(float(cnt/x_test.shape[0])))\n",
    "print(\"Accuracy : \" + str(cnt/x_test.shape[0]))"
   ]
  },
  {
   "cell_type": "markdown",
   "metadata": {},
   "source": [
    "> 画像の各ピクセルの値 (つまり説明変数, 生の特徴量) を 255 (全体の最大値) で除算し，データの値が 0.0 〜 1.0 の範囲に収まるよう変換．\n",
    "\n",
    "> このようなデータをある決まった範囲に変換する処理を正規化 (normalization) と言います．\n",
    "\n",
    "> ... 255 で割るだけの単純な正規化を行いました． ... 広がりをある範囲に収めたりといった正規化を行います．\n",
    "\n",
    "まず，ここでの「正規化」は統計での正規化 (平均 0 , 標準偏差 1 に変換) を含んだより広い概念だな．  \n",
    "\n",
    "統計の正規化 (各ピクセル内で平均 0 ,標準偏差 1 に変換) をして，全ての説明変数の 1 の価値を揃えたら，精度上がる感じはする．  \n",
    "しかし，この例では全部のピクセル(変数)に対して全く同じ処理をしてて，それだと精度が上がる気がしない．どうなんだろ．  \n",
    "学習効率に関係してくるのか？"
   ]
  },
  {
   "cell_type": "markdown",
   "metadata": {},
   "source": [
    "> データ全体の分布の形状を均一にするといった方法−これを**白色化** (whitening) と言います−などがあります．\n",
    "\n",
    "これは「平均 0，分散を 1 にし，さらに各成分を互いに無相関する」という前処理．[参考](https://mathwords.net/musoukanka#i-3)  \n",
    "$p$ 次元変数に対して主成分分析を行って $p$ 個全ての主成分を作れば，白色化は達成できそう．調べたら確かに関係あった．[参考](https://wonderfuru.com/%E3%83%87%E3%83%BC%E3%82%BF%E3%81%AE%E7%99%BD%E8%89%B2%E5%8C%96-2-2/)"
   ]
  },
  {
   "cell_type": "markdown",
   "metadata": {},
   "source": [
    "## 3.6.3. バッチ処理"
   ]
  },
  {
   "cell_type": "markdown",
   "metadata": {},
   "source": [
    "小西本ので線形回帰の話を思い出して．  \n",
    "とりあえず線形結合として線形回帰モデルを定義し，そのあと，  \n",
    "複数の観測値ベクトルについてのモデルを行列表記で $X \\beta + \\varepsilon$ と表せるね，という話だった．  \n",
    "これは見方変えると，複数の観測値ベクトルに対して予測値を $X \\beta$ で一気に計算できるよね，ということ．  \n",
    "この $\\beta$ は $p \\times 1$ 行列で，(右からかけることで) $p$ 次元観測値ベクトル $x$ を $1$ 次元アウトカムに線形変換している．\n",
    "\n",
    "これをそのまま拡張したのが，ニューラルネット（の線形変換,アフィン変換)．\n",
    "1. $m$次元を $n$次元に変換するモデル $x W$ を考える．\n",
    "2. 複数の入力ベクトルについて，このモデルは $X W$ と表せる．\n",
    "\n",
    "この事実を利用して，入力ベクトルの塊 (**バッチ**) に対して行列計算で一気にアウトカム予測値を算出することを，**バッチ処理**と言う．"
   ]
  },
  {
   "cell_type": "code",
   "execution_count": 141,
   "metadata": {},
   "outputs": [
    {
     "name": "stdout",
     "output_type": "stream",
     "text": [
      "(10000, 784)\n",
      "(784, 50)\n",
      "(50,)\n"
     ]
    }
   ],
   "source": [
    "X = x_test\n",
    "print(X.shape)                        # 入力ベクトルを束ねたバッチ　（　x を rbind した計画行列 X　）\n",
    "print(nn_mnist.W1.shape)   # 784 → 50次元に線形変換する 784 × 50 行列 W1\n",
    "print(nn_mnist.b1.shape)    # バッチ処理したかったら bi を (bi, bi, ..., bi)^T に変換しないとサイズ的に足し合わせできないと思う． ↓しなくても大丈夫だった↓"
   ]
  },
  {
   "cell_type": "code",
   "execution_count": 135,
   "metadata": {},
   "outputs": [
    {
     "name": "stdout",
     "output_type": "stream",
     "text": [
      "[[1 2 3]\n",
      " [4 5 6]] [  10  100 1000]\n",
      "[[  11  102 1003]\n",
      " [  14  105 1006]]\n"
     ]
    }
   ],
   "source": [
    "# バイアス項のバッチ処理演算どうしよう．\n",
    "\n",
    "print(np.array([[1,2,3], [4,5,6]]),   np.array([10, 100, 1000]))\n",
    "print(np.array([[1,2,3], [4,5,6]]) + np.array([10, 100, 1000]))             # この規則，P14でブロードキャストの例として扱った．直感的ではないが便利．\n",
    "# print(np.array([[1,2], [3,4], [5,6]],) ,  np.array([10, 100, 1000]))\n",
    "# print(np.array([[1,2], [3,4], [5,6]],) + np.array([10, 100, 1000]))    # こちらはエラーなので，常に rbind な感じのブロードキャストがされるんだ．\n",
    "\n",
    "# 行列 + ベクトル　におけるブロードキャストでは，　行列の各行ベクトルに対する加算が行われる．\n",
    "\n",
    "# まあ，こういう便利なブロードキャストに頼るのはアリだが，数式と見比べた時との違和感が残る．\n",
    "# 面倒くさがらず，ちゃんと　Bi = (bi, bi, ..., bi)^T を定義した方がわかりやすいと思う．"
   ]
  },
  {
   "cell_type": "code",
   "execution_count": 136,
   "metadata": {},
   "outputs": [
    {
     "name": "stdout",
     "output_type": "stream",
     "text": [
      "[1, 2, 3, 1, 2, 3]\n",
      "[1, 2, 3, 1, 2, 3, 1, 2, 3, 1, 2, 3, 1, 2, 3]\n",
      "[[1, 2, 3], 1, 2, 3]\n",
      "[[1, 2, 3], [1, 2, 3]]\n",
      "[[1, 2, 3], [1, 2, 3], [1, 2, 3], [1, 2, 3], [1, 2, 3]]\n",
      "[[1 2 3 4 5]\n",
      " [1 2 3 4 5]\n",
      " [1 2 3 4 5]\n",
      " [1 2 3 4 5]\n",
      " [1 2 3 4 5]\n",
      " [1 2 3 4 5]\n",
      " [1 2 3 4 5]\n",
      " [1 2 3 4 5]\n",
      " [1 2 3 4 5]\n",
      " [1 2 3 4 5]]\n"
     ]
    }
   ],
   "source": [
    "print( [1, 2, 3] + [1, 2, 3]                      )\n",
    "print( [1, 2, 3] * 5                                   )\n",
    "print( [[1, 2, 3]] + [1, 2, 3]                   )\n",
    "print( [[1, 2, 3]] + [[1, 2, 3]]                )\n",
    "print( [[1, 2, 3]] * 5                                )   # これを応用すれば...\n",
    "print( np.array([[1, 2, 3, 4, 5]] * 10)   )   # Bi = (bi, bi, ..., bi)^T を作れるわ．"
   ]
  },
  {
   "cell_type": "code",
   "execution_count": 139,
   "metadata": {},
   "outputs": [
    {
     "name": "stdout",
     "output_type": "stream",
     "text": [
      "[0.73105858 0.88079708 0.95257413]\n",
      "[[0.73105858 0.88079708 0.95257413]\n",
      " [0.73105858 0.88079708 0.95257413]]\n"
     ]
    }
   ],
   "source": [
    "# 活性化関数のバッチ処理演算はどうしよう...\n",
    "\n",
    "print(  sigmoid(np.array([1, 2, 3]))                          )\n",
    "print(  sigmoid(np.array([[1, 2, 3], [1, 2, 3]]))      )\n",
    "\n",
    "# これも　行列 + ベクトル　のブロードキャストと同様に，行列の各行ベクトルに対して演算が行われる．\n",
    "\n",
    "# このブロードキャストは，(バイアス項ベクトルの行列への加算と比べて)そんなに不自然さを感じないから，まあ，頼ってしまおう．"
   ]
  },
  {
   "cell_type": "code",
   "execution_count": 180,
   "metadata": {},
   "outputs": [
    {
     "name": "stdout",
     "output_type": "stream",
     "text": [
      "[[0. 0. 0. ... 0. 0. 0.]\n",
      " [0. 0. 0. ... 0. 0. 0.]\n",
      " [0. 0. 0. ... 0. 0. 0.]\n",
      " ...\n",
      " [0. 0. 0. ... 0. 0. 0.]\n",
      " [0. 0. 0. ... 0. 0. 0.]\n",
      " [0. 0. 0. ... 0. 0. 0.]]\n",
      "(10000, 784)\n",
      "[[2.6744647e-08 8.3487522e-10 2.2669194e-07 ... 3.1590319e-04\n",
      "  2.9701399e-09 2.5926784e-07]\n",
      " [1.9413338e-07 4.4338709e-08 3.7902835e-05 ... 5.1012295e-11\n",
      "  5.1637866e-08 1.9213229e-12]\n",
      " [3.5381028e-12 3.3780430e-05 1.4651680e-07 ... 7.7535880e-08\n",
      "  4.2282110e-08 2.9619227e-09]\n",
      " ...\n",
      " [1.9153377e-11 2.7681264e-09 2.8718126e-09 ... 2.9553922e-08\n",
      "  2.3387453e-07 8.6690522e-07]\n",
      " [9.2824095e-09 1.1410896e-08 1.8581964e-09 ... 5.6684113e-10\n",
      "  1.2815890e-06 1.3370182e-09]\n",
      " [1.3560698e-07 6.3381383e-10 8.0339538e-07 ... 1.3755677e-10\n",
      "  2.0161626e-09 1.1938017e-10]]\n",
      "(10000, 10)\n",
      "[7 2 1 ... 4 5 6]\n",
      "(10000,)\n",
      "[ True  True  True ...  True  True  True]\n",
      "Accuracy : 0.9352\n"
     ]
    }
   ],
   "source": [
    "# バッチ処理(バッチサイズ=n つまり一気に全部)で予測値算出(推論)　してみる．\n",
    "\n",
    "print(x_test)\n",
    "print(x_test.shape)\n",
    "\n",
    "probs = nn_mnist.predict(x=x_test)  # 上記で確認したブロードキャスト機能によって，これで一気にバッチ処理できてしまう．\n",
    "print(probs)\n",
    "print(probs.shape)\n",
    "\n",
    "preds = np.argmax(probs, axis=1)      # axis=1 と指定すると，列ごとの最大値 index が返される．\n",
    "# preds = np.argmax(probs)                # axis を指定しないときは、多次元配列を flatten した（一次元配列に直した）状態での最大値 index を返す\n",
    "# preds = np.argmax(probs, axis=0)  # axis=0 と指定すると，列ごとの最大値 index が返される．\n",
    "print(preds)\n",
    "print(preds.shape)\n",
    "\n",
    "print( preds == t_test )\n",
    "\n",
    "print( \"Accuracy : \" + str( sum(preds == t_test) / len(preds) ) )"
   ]
  },
  {
   "cell_type": "markdown",
   "metadata": {},
   "source": [
    "> バッチ処理によって，１枚(1予測)あたりの処理時間を大幅に短縮することができるよ．\n",
    "\n",
    "\n",
    "python とかの for 文は最適化されてなくてその名の通り順番にループしていくけど，numpy とかの行列演算は最適化されているから．  \n",
    "イメージ的には，for 文では「次のループの時に何が行われるかわからない」が，行列演算ではそれが分かってる．そこの差かなあ．"
   ]
  },
  {
   "cell_type": "markdown",
   "metadata": {},
   "source": [
    "> また，ニューラルネットワークの計算において，データ転送がボトルネックになる場合は，バッチ処理を行うことで，バス帯域の負荷を軽減することができます（正確には，データの読み込みに対して演算の割合を多くすることができます）\n",
    "\n",
    "これは意味ちょっと分からん．   for ループに対するアドを言ってるんじゃなくて，  \n",
    "全体を一気に予測するんじゃなくていくつかのバッチに分けてそれぞれで予測する（つまりミニバッチ処理）の良さを言ってる？  \n",
    "データ格納場所(ハードディスク, DB, クラウドなど)から予測対象データ全部を一気にメインメモリに持ってきてから予測するのではなく，  \n",
    "１バッチ目をメモリに持ってくる．  \n",
    "1バッチ目の予測値をバッチ処理で算出しながら，その間に2バッチ目をメモリに転送する．  \n",
    "2バッチ目の予測値をバッチ処理で算出しながら，その間に3バッチ目をメモリに転送する．  \n",
    "...   \n",
    "って感じのことを言ってるのかも．確かにそうすると，バス(メモリとDB等の間のデータ通信経路)に一気に負荷がかからないようになる．"
   ]
  },
  {
   "cell_type": "code",
   "execution_count": 197,
   "metadata": {},
   "outputs": [
    {
     "name": "stdout",
     "output_type": "stream",
     "text": [
      "[0, 10, 20, 30]\n",
      "[0, 10, 20, 30]\n",
      "[0, 10, 20]\n",
      "[ 0 10 20 30]\n"
     ]
    }
   ],
   "source": [
    "print(list(  range(0, 35, 10)           ))\n",
    "print(list(  range(0, 31, 10)           ))\n",
    "print(list(  range(0, 30, 10)           )) \n",
    "# range(start, end, step) は， start から 最大 end-1 までを step 刻みで返す． 初項 start で公差 step の等差数列を end-1 以下まで返す．\n",
    "\n",
    "print(         np.arange(0, 35, 10)    )\n",
    "# np,arange(a, b, c) は， range(a, b, c) の出力が np.ndarray になったバージョン．"
   ]
  },
  {
   "cell_type": "code",
   "execution_count": 188,
   "metadata": {},
   "outputs": [
    {
     "name": "stdout",
     "output_type": "stream",
     "text": [
      "(10000, 784)\n",
      "(1000, 784)\n",
      "(0, 784)\n"
     ]
    }
   ],
   "source": [
    "print(x_test.shape)\n",
    "print(x_test[9000 : 12000].shape)     # スライスで範囲外の index を指定しちゃっても， エラーを吐かず気を利かせてオーバーしたとこだけ無視してくれるのか．\n",
    "print(x_test[11000 : 12000].shape)   # 存在しない index だけが指定されちゃってても， エラーを吐かず気を利かせて空を返してくれる．"
   ]
  },
  {
   "cell_type": "code",
   "execution_count": 205,
   "metadata": {},
   "outputs": [
    {
     "name": "stdout",
     "output_type": "stream",
     "text": [
      "0 1300\n",
      "(1300, 784)\n",
      "1300 2600\n",
      "(1300, 784)\n",
      "2600 3900\n",
      "(1300, 784)\n",
      "3900 5200\n",
      "(1300, 784)\n",
      "5200 6500\n",
      "(1300, 784)\n",
      "6500 7800\n",
      "(1300, 784)\n",
      "7800 9100\n",
      "(1300, 784)\n",
      "9100 10400\n",
      "(900, 784)\n",
      "Accuracy : 0.9352\n"
     ]
    }
   ],
   "source": [
    "# (ミニ)バッチ処理で予測値算出(推論)\n",
    "\n",
    "batch_size = 1300\n",
    "cnt = 0\n",
    "\n",
    "for i in range(0, len(x_test), batch_size):\n",
    "    x_batch = x_test[i : (i + batch_size), :]\n",
    "    print(i, i + batch_size)\n",
    "    print(x_batch.shape)\n",
    "    prob_batch = nn_mnist.predict(x=x_batch)\n",
    "    pred_batch = np.argmax(prob_batch, axis=1)\n",
    "    cnt += sum(pred_batch == t_test[i : (i + batch_size)])\n",
    "\n",
    "print(\"Accuracy : \" + str( cnt / len(x_test)))"
   ]
  },
  {
   "cell_type": "code",
   "execution_count": null,
   "metadata": {},
   "outputs": [],
   "source": []
  },
  {
   "cell_type": "code",
   "execution_count": null,
   "metadata": {},
   "outputs": [],
   "source": []
  }
 ],
 "metadata": {
  "kernelspec": {
   "display_name": "Python 3",
   "language": "python",
   "name": "python3"
  },
  "language_info": {
   "codemirror_mode": {
    "name": "ipython",
    "version": 3
   },
   "file_extension": ".py",
   "mimetype": "text/x-python",
   "name": "python",
   "nbconvert_exporter": "python",
   "pygments_lexer": "ipython3",
   "version": "3.7.4"
  }
 },
 "nbformat": 4,
 "nbformat_minor": 2
}
