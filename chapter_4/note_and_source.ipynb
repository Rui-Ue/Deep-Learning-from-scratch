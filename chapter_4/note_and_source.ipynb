{
 "cells": [
  {
   "cell_type": "markdown",
   "metadata": {},
   "source": [
    "# 4章 ニューラルネットワークの学習"
   ]
  },
  {
   "cell_type": "markdown",
   "metadata": {},
   "source": [
    "# 4.1. データから学習する"
   ]
  },
  {
   "cell_type": "markdown",
   "metadata": {},
   "source": [
    "## 4.1.1. データ駆動"
   ]
  },
  {
   "cell_type": "markdown",
   "metadata": {},
   "source": [
    "> コンピュータビジョンの分野で有名な特徴量としては、SIFT や SURF、HOG などが挙げられます。そのような特徴量を使って画像データをベクトルに変換し、その変換されたベクトルに対して、機械学習で使われる識別器―― SVM や KNN など――で学習させることができます。\n",
    "\n",
    "SIFT や SURF については山﨑先生の講義の第 7,8 回や [qiita](https://qiita.com/icoxfog417/items/adbbf445d357c924b8fc) を参照．回転やスケールにロバストな特徴量(検出器)の代表格．  \n",
    "つまり例えば，猫の耳が上下左右どっちから写ってても拡大縮小されててもどのくらい拡大縮小されて写ってても，同じような値になってくれる特徴量．"
   ]
  },
  {
   "cell_type": "markdown",
   "metadata": {},
   "source": [
    "> ただし、画像をベクトルに変換する際に使用した特徴量は、「人」が設計したものであることに注意が必要です。というのは、問題に応じて適した特徴量を使わなければ(もしくは特徴量 を設計しなければ)、なかなか良い結果が得られないのです。たとえば、犬の顔を見 分けるためには、「5」を認識する特徴量とは別の特徴量を人が考える必要があるかも しれません。つまり、特徴量と機械学習によるアプローチでも、問題に応じて、「人」 の手によって適した特徴量を考える必要があるかもしれないのです。\n",
    "\n",
    "ビジネス課題 PBL では「体感気温」とか「晴れてる時の気温」とかいう特徴量(交互作用的な)を自分で工夫して作って，それを使って回帰モデル組んで，精度向上(知見発掘)を目指した．まあ確かに，画像とかみたいに生の説明変数の意味が薄いようなデータでこれやるのは，大変．"
   ]
  },
  {
   "cell_type": "markdown",
   "metadata": {},
   "source": [
    "> ニューラルネットワークやディープラーニングは、従来の機械学習で使われた手法以上に、人の介入を遠ざけることができるという重要な性質を持ちます。\n",
    "\n",
    "> 図4-2 に示すとおり、ニューラルネットワークは、画像を“そのまま”学習します。 2 つ目のアプローチ――特徴量と機械学習によるアプローチ――の例では人が特徴量 を設計しましたが、ニューラルネットワークは，画像に含まれる重要な特徴量までも「機械」が学習するのです\n",
    "\n",
    "これ，よく言われる表現だが，まあどういう意味での主張か理解できた．  \n",
    "\n",
    "1. 例えば回帰のニューラルネットワークモデルを考える．  \n",
    "2. 一般的には，出力層での活性化関数は恒等関数．  すなわち，出力層のノード(アウトカムの値そのもの)は，最後の隠れ層ノードの線形結合になってる．  \n",
    "3. ここで，一番最後の隠れ層ノードっていうのは，マクロな視点で見ると，説明変数を線形変換・活性化で何度も何度も変換して得られた特徴量である．  データから交互作用をめっちゃ考慮した特徴量を作った感じ．  \n",
    "4. こう考えると，DNNは「重要な特徴量＝最終隠れ層ノード」を学習で獲得して，それで線形回帰している，とも捉えられる．\n",
    "\n",
    "このことから\n",
    "\n",
    "> ディープラーニングは、「end-to-end machine learning」と呼ばれること があります。ここで言う end-to-end とは、「端から端まで」という意味であ り、これは生データ(入力)から目的の結果(出力)を得ることを意味します。\n",
    "\n",
    "と言われてるそうだが，前処理(正規化とか白色化)が重要だっていう記述は前にあったし，ハイパラ調整の問題も残ってるし，まだまだ自動化しきれていないと思う．"
   ]
  },
  {
   "cell_type": "markdown",
   "metadata": {},
   "source": [
    "## 4.2. 損失関数"
   ]
  },
  {
   "cell_type": "markdown",
   "metadata": {},
   "source": [
    "> ニューラル ネットワークの学習で用いられる指標は、**損失関数** (loss function)と呼ばれます。この損失関数は、任意の関数を用いることができますが、一般には、2乗和誤差や交差エントロピー誤差などが用いられます。\n",
    "\n",
    "モデルのパラメータ推定のための最適化問題の目的関数のことを，一般に「損失関数(ロス関数，コスト関数)」って言うんだろうな．  \n",
    "交差エントロピーは使ったことないから理解しよう．"
   ]
  },
  {
   "cell_type": "markdown",
   "metadata": {},
   "source": [
    "出力(アウトカム)は多次元なので， (4.1) の２乗誤差は\n",
    "\n",
    "$$\n",
    "E_i = \\frac{1}{2} \\sum_{k=1}^K (y_{ik} - t_{ik})^2\n",
    "$$\n",
    "\n",
    "という感じで表すのが厳密かな．  \n",
    "ここで，$K$ は出力の次元 (ノード数) で，$y_{ik}$は $i$ 番目のケースに対する $k$ 番目の出力ノードの値 (確率の予測値)で，$t$ は同様に真のクラスをone-hot-encoding したもので $i$ 番目のケースがクラス $k$ に該当する時は $t_{ik} = 1$ でそれ以外では $0$．こう表した $E_i$ が，$i$ 番目のデータ(観測値,ケース)に対する二乗誤差．  \n",
    "$\\frac{1}{2}$ はなんか計算上の都合だと思う，後でわかりそう．\n",
    "てか，\n",
    "\n",
    "> $y_k$ はニューラルネットワークの出力、$t_k$ は教師データを表し、\n",
    "\n",
    "っていうノーテーションは PRML と同じだな．俺いつも $\\widehat{y}, y$ を使ってたが，まあハットめんどいしこっちのが楽だな． True の T だし．"
   ]
  },
  {
   "cell_type": "code",
   "execution_count": 3,
   "metadata": {},
   "outputs": [],
   "source": [
    "import numpy as np"
   ]
  },
  {
   "cell_type": "code",
   "execution_count": 5,
   "metadata": {},
   "outputs": [],
   "source": [
    "def squared_error(y, t):\n",
    "    return 0.5 * np.sum((y - t)**2)"
   ]
  },
  {
   "cell_type": "code",
   "execution_count": 8,
   "metadata": {},
   "outputs": [
    {
     "data": {
      "text/plain": [
       "0.09750000000000003"
      ]
     },
     "execution_count": 8,
     "metadata": {},
     "output_type": "execute_result"
    }
   ],
   "source": [
    "t = [0, 0, 1, 0, 0, 0, 0, 0, 0, 0]\n",
    "y = [0.1, 0.05, 0.6, 0.0, 0.05, 0.1, 0.0, 0.1, 0.0, 0.0]\n",
    "# y = [0.1, 0.05, 0.1, 0.0, 0.05, 0.1, 0.0, 0.6, 0.0, 0.0]\n",
    "\n",
    "squared_error(np.array(y), np.array(t))"
   ]
  },
  {
   "cell_type": "markdown",
   "metadata": {},
   "source": [
    "## 4.2.2. 交差エントロピー誤差"
   ]
  },
  {
   "cell_type": "markdown",
   "metadata": {},
   "source": [
    "２乗誤差の時と同様，出力ノードが多次元なので，\n",
    "\n",
    "$$\n",
    "E_i = - \\sum_{k=1}^K t_{ik} \\log y_{ik}\n",
    "$$\n",
    "\n",
    "が $i$ 番目のデータ (ケース) に対する予測の交差エントロピー．  \n",
    "PRML の p208,209 の (4.108) では「多クラス分類に対する交差エントロピー誤差」という名で同じ定義がある．"
   ]
  },
  {
   "cell_type": "markdown",
   "metadata": {},
   "source": [
    "「交差エントロピー」という名の意味について考えていく．\n",
    "\n",
    "まず $y_k$ がここではソフトマックス関数が返した値であることを思い出すと，交差エントロピーの定義に含まれる $-\\log y_k$ は「確率 $y_k$ の値(事象)が観測された際に得られる情報量」である (PRLM の 1.92 式)．本来なら「得られる情報量 $-\\log y_k$ の期待値」がエントロピーだが (PRML の 1.93 式)，まあその辺の区別せず交差\"エントロピー\"という名前になってるのだと思う．\n",
    "\n",
    "PRML の (4.90) にはロジスティックにおける交差エントロピー誤差関数の定義があって，多クラス分類での交差エントロピー(PRML の 4.108)　と見た目違うがやってることは全く同じ．なぜなら，ロジスティックでは $t=0,1$ で2つのクラスを表しているので，(4.90)は「真のクラスが$t=1$のときは $y$ の情報量を足し込んで，真のクラスが $t=0$ のときは $1-y$ の情報量を足しこむ」という操作をやってて，これを多クラスにそのまま拡張したのが (4.108) だから．  \n",
    "そんで2クラスverの交差エントロピー (4.90) を見ると， クラスベクトル $t$ と出力ベクトル $y$ が交差(クロス)している感じがして， \"交差\"エントロピーという名も納得．"
   ]
  },
  {
   "cell_type": "code",
   "execution_count": 26,
   "metadata": {},
   "outputs": [
    {
     "data": {
      "image/png": "[encoded data removed]",
      "text/plain": [
       "<Figure size 432x288 with 1 Axes>"
      ]
     },
     "metadata": {
      "needs_background": "light"
     },
     "output_type": "display_data"
    }
   ],
   "source": [
    "# エントロピー(情報量) log(p) のグラフ\n",
    "# 珍しい値(事象)ほど観測された時に得られる情報が多い，という思想．PRML参照．\n",
    "\n",
    "import matplotlib.pyplot as plt\n",
    "\n",
    "x = np.arange(0.001, 1, 0.001)\n",
    "y = - np.log(x)\n",
    "\n",
    "plt.plot(x, y)\n",
    "plt.title(\"- \\log p\")\n",
    "plt.show()"
   ]
  },
  {
   "cell_type": "markdown",
   "metadata": {},
   "source": [
    "> そのため、式 (4.2) つまり交差エントロピー誤差は実質的に正解ラベルが 1 に対応する出力の自然対数 (情報量) を計算するだけになります。\n",
    "\n",
    "ていう事実と↑のグラフから考えると，交差エントロピーは損失関数としてはまあ使えそうだな．  \n",
    "学習の時に微分が使いやすいとか，そういうメリットも後で紹介されるんだと思う．  \n",
    "\n",
    "まあ強引にクロスエントロピー誤差(の全ケース分の和)の意味を解釈するとしたら「予測(分類)を行った全ケースの真のクラスを観測した時の意外性(驚き度合い, え予測外れてんじゃん度合い)の合計」という感じか．\n",
    "\n",
    "あと気になる点としては，出力ノードの値が $y < 0$ となった場合はどうしてんだろう．あ，最後の活性化関数にソフトマックスを使えば心配無用か．  \n",
    "けど，↓の実装では 0 が渡される可能性を考慮して対策してるぽい．"
   ]
  },
  {
   "cell_type": "code",
   "execution_count": 43,
   "metadata": {},
   "outputs": [
    {
     "data": {
      "text/plain": [
       "-16.11809565095832"
      ]
     },
     "execution_count": 43,
     "metadata": {},
     "output_type": "execute_result"
    }
   ],
   "source": [
    "# np.log(0)   # -inf が返される．これだと，定義式中で 0 * -inf の不定形が生じて死ぬかも．\n",
    "np.log(1e-7)  # 超微小の値を足す．"
   ]
  },
  {
   "cell_type": "code",
   "execution_count": 44,
   "metadata": {},
   "outputs": [],
   "source": [
    "# def cross_entropy_error(y, t):\n",
    "#     return - np.sum(t * np.log(y))\n",
    "\n",
    "def cross_entropy_error(y, t):  \n",
    "    delta = 1e-7\n",
    "    return - np.sum(t * np.log(y + 1e-7))\n",
    "# t=0,y=0 で 0*-inf の不定形が生じるのを防ぐため．\n",
    "# ソフトマックスを噛ませばこういう心配無いと思うが..."
   ]
  },
  {
   "cell_type": "code",
   "execution_count": 48,
   "metadata": {},
   "outputs": [
    {
     "data": {
      "text/plain": [
       "0.510825457099338"
      ]
     },
     "execution_count": 48,
     "metadata": {},
     "output_type": "execute_result"
    }
   ],
   "source": [
    "t = [0, 0, 1, 0, 0, 0, 0, 0, 0, 0]\n",
    "y = [0.1, 0.05, 0.6, 0.0, 0.05, 0.1, 0.0, 0.1, 0.0, 0.0]\n",
    "# y = [0.1, 0.05, 0.1, 0.0, 0.05, 0.1, 0.0, 0.6, 0.0, 0.0]\n",
    "\n",
    "cross_entropy_error(np.array(y), np.array(t))"
   ]
  },
  {
   "cell_type": "markdown",
   "metadata": {},
   "source": [
    "## 4.2.3. ミニバッチ学習"
   ]
  },
  {
   "cell_type": "markdown",
   "metadata": {},
   "source": [
    "> 先ほど説明した損失関数の例は、ひとつのデータの損失関数を考えてい ました。そこで、訓練データすべての損失関数の和を求めたいとすると、たとえば、 交差エントロピー誤差の場合、次の式 (4.3) のように書くことができます。\n",
    "$$\n",
    "E = - \\frac{1}{N} \\sum_n \\sum_k t_{nk} \\log y_{nk}\n",
    "$$\n",
    "\n",
    "あ，なんだ，この話ここで出てくるのか．  \n",
    "PRML の p48 を参照．エントロピー(てか情報量)をそのまま足し合わせると言うことは，情報理論的には各観測値の $y_i$ を独立と思っている感じになる．\n",
    "\n",
    "> 最後に N で割って正規化しています。こ の N で割ることによって、1 個あたりの「平均の損失関数」を求めることになりま す。そのように平均化すれば、訓練データの数に関係なく、いつでも統一した指標が 得られます。たとえば、訓練データが 1,000 個や 10,000 個の場合であっても、1 個 あたりの平均の損失関数を求められます。\n",
    "\n",
    "これやっても最適化問題としては変わらない気がするので，まあ，どういうモチベかわからん．ミニバッチ学習の時に必要？"
   ]
  },
  {
   "cell_type": "markdown",
   "metadata": {},
   "source": [
    "> すべてのデータを対象とした損失関数を計算 するのは、現実的ではありません。そこで、データの中から一部を選び出し、その一 部のデータを全体の「近似」として利用します。ニューラルネットワークの学習にお いても、訓練データからある枚数だけを選び出し――これをミニバッチ(小さな塊) と言う――、そのミニバッチごとに学習を行います。たとえば、60,000 枚の訓練デー タの中から 100 枚を無作為に選び出して、その 100 枚を使って学習を行うのです。 このような学習手法をミニバッチ学習と言います。\n",
    "\n",
    "こういう問題意識は NN 特有な感じがして，これまで触れてこなかった．  \n",
    "\n",
    "線形回帰のパラメータ推定で強引に例えてみる．  \n",
    "目的関数は $(y - X \\beta)^T (y - X \\beta)$ で，これは $ \\beta = (\\beta_1, \\beta_2, \\ldots, \\beta_p)^T$ 関数．巨大な $X, y$ から一部の行(観測値)を抜き出して $X_s, y_s$ を作り(これがミニバッチ)，本来最適化したい $(y - X \\beta)^T (y - X \\beta)$ を計算が軽く済む $(y_s - X_s \\beta)^T (y_s - X_s \\beta)$　で近似して，こっちについて最適化を行う．そうすると，ちゃんとランダムサンプリングできていれば，低い計算コストで (平均的には) 同じ値の $\\widehat{\\beta}$ をゲットできる．  \n",
    "イメージ的には例えば，よく見る 2変数ロジスティックの対数尤度関数の山を，一部のサンプルだけを見て作った山で近似する感じ．"
   ]
  },
  {
   "cell_type": "code",
   "execution_count": 1,
   "metadata": {},
   "outputs": [
    {
     "name": "stdout",
     "output_type": "stream",
     "text": [
      "(60000, 784) (60000, 10) (10000, 784) (10000, 10)\n"
     ]
    }
   ],
   "source": [
    "import sys\n",
    "import os\n",
    "sys.path.append(os.pardir)\n",
    "\n",
    "from dataset.mnist import load_mnist\n",
    "\n",
    "(x_train, t_train), (x_test, t_test) = load_mnist(normalize=True, one_hot_label=True)\n",
    "print(x_train.shape, t_train.shape, x_test.shape, t_test.shape)\n",
    "# one_hot_label=True　で，数字ラベルを one hot encoding で取得"
   ]
  },
  {
   "cell_type": "code",
   "execution_count": 10,
   "metadata": {},
   "outputs": [],
   "source": [
    "%load_ext rpy2.ipython"
   ]
  },
  {
   "cell_type": "code",
   "execution_count": 39,
   "metadata": {},
   "outputs": [
    {
     "name": "stdout",
     "output_type": "stream",
     "text": [
      "[4 3 2]\n"
     ]
    },
    {
     "data": {
      "text/plain": [
       "[1] 6 9 8\n"
      ]
     },
     "metadata": {},
     "output_type": "display_data"
    }
   ],
   "source": [
    "print(np.random.choice(10, 3))\n",
    "%R print( sample(0:9, 3, replace=F))"
   ]
  },
  {
   "cell_type": "code",
   "execution_count": 29,
   "metadata": {},
   "outputs": [
    {
     "name": "stdout",
     "output_type": "stream",
     "text": [
      "(10, 784) (10, 10)\n"
     ]
    }
   ],
   "source": [
    "batch_size = 10\n",
    "idx = np.random.choice(x_train.shape[0], batch_size)\n",
    "x_batch = x_train[idx, :]\n",
    "t_batch = t_train[idx, :]\n",
    "print(x_batch.shape, t_batch.shape)"
   ]
  },
  {
   "cell_type": "code",
   "execution_count": 79,
   "metadata": {},
   "outputs": [
    {
     "name": "stdout",
     "output_type": "stream",
     "text": [
      "[0 1 0 0]\n",
      "1\n",
      "(4,)\n",
      "[[0 1 0 0]]\n",
      "2\n",
      "(1, 4)\n"
     ]
    },
    {
     "data": {
      "text/plain": [
       "1.2039724376593033"
      ]
     },
     "execution_count": 79,
     "metadata": {},
     "output_type": "execute_result"
    }
   ],
   "source": [
    " # 入力として，\n",
    "# - ndim=1 の array (単一の観測値)\n",
    "# - ndim=2 の array (ミニバッチ)\n",
    "# の両方を処理できるようにしたいので，どうするかというと...\n",
    "\n",
    "y = np.array([0, 1, 0, 0])\n",
    "print(y)\n",
    "print(y.ndim)\n",
    "print(y.shape)\n",
    "\n",
    "y_2d = y.reshape(1, y.shape[0])\n",
    "print(y_2d)\n",
    "print(y_2d.ndim)\n",
    "print(y_2d.shape)\n",
    "\n",
    "y = np.array([[0.1, 0.3, 0.6], [0.5, 0.4, 0.1]])\n",
    "t = np.array([[0, 0, 1], [1, 0, 0]])\n",
    "t*y\n",
    "t*np.log(y + 1e-7)                                    # 0が入力された時用\n",
    "- np.sum(t*np.log(y + 1e-7), axis=1)                 # 丁寧に観測値ごとにクロスエントロピーロスを算出して，\n",
    "np.sum(- np.sum(t*np.log(y + 1e-7), axis=1)) # それを足し合わせる．\n",
    "- np.sum(t*np.log(y + 1e-7))                              # けどまあ，面倒だから一気に全部足してOK "
   ]
  },
  {
   "cell_type": "code",
   "execution_count": 86,
   "metadata": {},
   "outputs": [],
   "source": [
    "def cross_entropy_error(y, t):\n",
    "    if y.ndim == 1:  # ndim=1(ベクトル) つまり単一観測値が入力されたら ndim=2(行列) に整形\n",
    "        y = y.reshape(1, y.shape[0])\n",
    "        t = t.reshape(1, t.shape[0])\n",
    "    return - (1/y.shape[0]) * np.sum(t * np.log(y + 1e-7))"
   ]
  },
  {
   "cell_type": "code",
   "execution_count": 97,
   "metadata": {},
   "outputs": [
    {
     "data": {
      "text/plain": [
       "0.6019862188296516"
      ]
     },
     "execution_count": 97,
     "metadata": {},
     "output_type": "execute_result"
    }
   ],
   "source": [
    "y = np.array([[0.1, 0.3, 0.6], [0.5, 0.4, 0.1]])\n",
    "t = np.array([[0, 0, 1], [1, 0, 0]])\n",
    "# y = np.array([0.1, 0.3, 0.6])\n",
    "# t = np.array([0, 0, 1])\n",
    "\n",
    "cross_entropy_error(y=y, t=t)"
   ]
  },
  {
   "cell_type": "code",
   "execution_count": 94,
   "metadata": {},
   "outputs": [
    {
     "data": {
      "text/plain": [
       "array(['01', '12'], dtype='<U2')"
      ]
     },
     "execution_count": 94,
     "metadata": {},
     "output_type": "execute_result"
    }
   ],
   "source": [
    "# クラスが one-hot じゃなくてラベルで与えられた時の実装方法を考えるため...\n",
    "\n",
    "mat = np.array([[\"00\", \"01\", \"02\"], [\"10\", \"11\", \"12\"], [\"20\", \"21\", \"22\"]])\n",
    "mat[[0, 1], [1, 2]]\n",
    "\n",
    "# おお，こんな感じで「 i 行 j　列と k　行　ｌ 列と... を持ってきてね」という抽出ができるのか．"
   ]
  },
  {
   "cell_type": "code",
   "execution_count": 104,
   "metadata": {},
   "outputs": [],
   "source": [
    "def cross_entropy_error_label(y, t):\n",
    "    if y.ndim == 1:\n",
    "        y = y.reshape(1, y.shape[0])\n",
    "    return - (1/y.shape[0]) * np.sum(np.log(y[np.arange(y.shape[0]), t] + 1e-7))"
   ]
  },
  {
   "cell_type": "code",
   "execution_count": 105,
   "metadata": {},
   "outputs": [
    {
     "data": {
      "text/plain": [
       "0.6019862188296516"
      ]
     },
     "execution_count": 105,
     "metadata": {},
     "output_type": "execute_result"
    }
   ],
   "source": [
    "y = np.array([[0.1, 0.3, 0.6], [0.5, 0.4, 0.1]])\n",
    "t = np.array([2, 0])\n",
    "# y = np.array([0.1, 0.3, 0.6])\n",
    "# t = 2\n",
    "# t = np.array([2])\n",
    "\n",
    "cross_entropy_error_label(y=y, t=t)"
   ]
  },
  {
   "cell_type": "markdown",
   "metadata": {},
   "source": [
    "## 4.2.5. なぜ損失関数を設定するのか？"
   ]
  },
  {
   "cell_type": "markdown",
   "metadata": {},
   "source": [
    "> 私たちが目標とすることは、できるだけ認識精度が高くなるニューラルネッ トワークを獲得することなので、「認識精度」を指標にすべきではないか、という疑 問です。\n",
    "\n",
    "たしかに，言われてみればこの疑問は自然．実際，決定木だと (推奨はジニ係数とかエントロピーだけど) 誤判別率を不純度として使うことあるよね．"
   ]
  },
  {
   "cell_type": "markdown",
   "metadata": {},
   "source": [
    "この 4.2.5. の話，全体的に面白い．まとめると...\n",
    "\n",
    "1. 明らかに，認識精度(誤分類率) は，ある重みパラメータをちょっと動かしただけだと，全く変化しない．\n",
    "2. つまりパラメータでの微分 (誤分類率の勾配) が，大半の場所で 0 となる．となると，勾配降下(学習, パラメータ探索)できない．\n",
    "3. 活性化関数が滑らかでないときも，損失関数が滑らかでなくなってしまうので，1.2.と全く同じく学習ができなくなってしまう．\n",
    "\n",
    "この説明だと，ステップじゃなくてシグモイド(非線型関数)を使うことの理由も人に説明しやすそう．ニューラルネットワーク内の関数のどこか１つでも滑らかじゃない関数があると，そのせいで損失関数も滑らかじゃなくなって，勾配降下できなくなる．\n",
    "\n",
    "まあもっと砕いた説明をすると，損失関数を容器みたいな感じで見て，そこにボールを入れて底まで届かせることをイメージすれば良い．傾きが０のところがあったら，底までいけない．"
   ]
  },
  {
   "cell_type": "markdown",
   "metadata": {},
   "source": [
    "# 4.3. 数値微分"
   ]
  },
  {
   "cell_type": "code",
   "execution_count": 152,
   "metadata": {},
   "outputs": [
    {
     "data": {
      "image/png": "[encoded data removed]",
      "text/plain": [
       "<Figure size 432x288 with 1 Axes>"
      ]
     },
     "metadata": {
      "needs_background": "light"
     },
     "output_type": "display_data"
    }
   ],
   "source": [
    "def function_1(x):\n",
    "    return 0.01*x**2 + 0.1*x\n",
    "\n",
    "# 解析的に微分すると 0.02*x + 0.1\n",
    "\n",
    "import matplotlib.pyplot as plt\n",
    "x = np.arange(0, 20, 0.1)\n",
    "y = function_1(x)\n",
    "plt.plot(x, y)\n",
    "plt.xlabel(\"x\")\n",
    "plt.ylabel(\"f(x)\")\n",
    "plt.show()"
   ]
  },
  {
   "cell_type": "code",
   "execution_count": 141,
   "metadata": {},
   "outputs": [],
   "source": [
    "# 数値微分のダメな実装例\n",
    "\n",
    "def numerical_diff_not(f, x):\n",
    "    h = 1e-50                              # h を 0 に近づけすぎていて丸め誤差の問題発生\n",
    "    return (f(x+h) - f(x)) / h"
   ]
  },
  {
   "cell_type": "code",
   "execution_count": 145,
   "metadata": {},
   "outputs": [
    {
     "name": "stdout",
     "output_type": "stream",
     "text": [
      "0.0\n",
      "0.0\n",
      "0.0\n",
      "0.0\n",
      "2.0 2.0\n",
      "0.0\n"
     ]
    }
   ],
   "source": [
    "print( numerical_diff_not(function_1, 5) )\n",
    "print( numerical_diff_not(function_1, 10) )\n",
    "print( numerical_diff_not(function_1, 100) )\n",
    "print( numerical_diff_not(function_1, 1000) )\n",
    "\n",
    "print(function_1(10+1e-50), function_1(10))\n",
    "print(function_1(10+1e-50) - function_1(10))\n",
    "\n",
    "# 解析的に求められた勾配と全然一致しない．\n",
    "# 丸め誤差(ビット数不足でどこかでほんのわずかにある差が丸められて0になってしまった)が原因で微分0．"
   ]
  },
  {
   "cell_type": "code",
   "execution_count": 146,
   "metadata": {},
   "outputs": [],
   "source": [
    "# 数値微分の良い例\n",
    "\n",
    "def numerical_diff(f, x):\n",
    "    h = 1e-4                                               # 丸め誤差対策で h は大きめ\n",
    "    return (f(x+h) - f(x-h)) / (2*h)         # 近似精度上げるため前方差分でなく中心差分を使用"
   ]
  },
  {
   "cell_type": "code",
   "execution_count": 148,
   "metadata": {},
   "outputs": [
    {
     "name": "stdout",
     "output_type": "stream",
     "text": [
      "0.1999999999990898\n",
      "0.2999999999986347\n",
      "2.1000000001691888\n",
      "20.099999992453377\n",
      "2.0000300000999998 1.9999700001\n",
      "5.999999999972694e-05\n"
     ]
    }
   ],
   "source": [
    "print( numerical_diff(function_1, 5) )\n",
    "print( numerical_diff(function_1, 10) )\n",
    "print( numerical_diff(function_1, 100) )\n",
    "print( numerical_diff(function_1, 1000) )\n",
    "\n",
    "print(function_1(10 + 1e-4), function_1(10 - 1e-4))\n",
    "print(function_1(10 + 1e-4) - function_1(10 - 1e-4))"
   ]
  },
  {
   "cell_type": "markdown",
   "metadata": {},
   "source": [
    "## 4.3.3. 偏微分"
   ]
  },
  {
   "cell_type": "code",
   "execution_count": 176,
   "metadata": {},
   "outputs": [],
   "source": [
    "def function_2(x):\n",
    "    return x[0]**2 + x[1]**2\n",
    "#     return np.sum(x**2)\n",
    "\n",
    "\n",
    "# f(x) = x0^2 + x1^2\n",
    "# グラフの形は式から明らか．x0,x1いずれかを固定(定数化)すれば 2次関数x^2"
   ]
  },
  {
   "cell_type": "code",
   "execution_count": 177,
   "metadata": {},
   "outputs": [
    {
     "name": "stdout",
     "output_type": "stream",
     "text": [
      "6.00000000000378 7.999999999999119\n"
     ]
    }
   ],
   "source": [
    "# x0=3, x1=4 における勾配を1変数微分 function だけ使って求める． \n",
    "\n",
    "def tmp0(x0):  # x1=4 で固定してバサッと切った断面\n",
    "    return function_2(np.array([x0, 4]))\n",
    "\n",
    "def tmp1(x1):  # x0=3 で固定してバサッと切った断面\n",
    "    return function_2(np.array([3, x1]))\n",
    "\n",
    "\n",
    "print( numerical_diff(tmp0, 3), numerical_diff(tmp1, 4))"
   ]
  },
  {
   "cell_type": "markdown",
   "metadata": {},
   "source": [
    "# 4.4. 勾配"
   ]
  },
  {
   "cell_type": "code",
   "execution_count": 178,
   "metadata": {},
   "outputs": [
    {
     "name": "stdout",
     "output_type": "stream",
     "text": [
      "[0. 0. 0.]\n",
      "[0 0 0]\n",
      "[[0 0 0]\n",
      " [0 0 0]]\n"
     ]
    }
   ],
   "source": [
    "print( np.zeros(3) )\n",
    "\n",
    "tmpvec = np.array([1,2,3])\n",
    "tmpmat = np.array([[1,2,3], [4,5,6]])\n",
    "\n",
    "print( np.zeros_like(tmpvec)  )\n",
    "print( np.zeros_like(tmpmat) )\n",
    "\n",
    "# np.zeros_like() ってめっちゃ便利だな．こういう操作すること多い．"
   ]
  },
  {
   "cell_type": "code",
   "execution_count": 179,
   "metadata": {},
   "outputs": [
    {
     "name": "stdout",
     "output_type": "stream",
     "text": [
      "3\n",
      "6\n"
     ]
    }
   ],
   "source": [
    "print(  np.array([1,2,3]).size                   )\n",
    "print(  np.array([[1,2,3],[4,5,6]]).size  )\n",
    "# ndim 問わず全要素数が返されるのか．"
   ]
  },
  {
   "cell_type": "code",
   "execution_count": 180,
   "metadata": {},
   "outputs": [],
   "source": [
    "def numerical_gradient(f, x):\n",
    "    \n",
    "    h = 1e-4                                  # 丸め誤差対策で小さくしすぎない\n",
    "    grad = np.zeros_like(x)         # x(変数ベクトル)と同じ形の array を生成．これを勾配に仕上げる\n",
    "    \n",
    "    for idx in range(x.size):         # 変数ベクトルを1次元ずつループ\n",
    "        \n",
    "        tmp = x[idx]                 # x[idx] を逃しておく\n",
    "        \n",
    "        x[idx] = tmp + h\n",
    "        fxh1 = f(x)\n",
    "        \n",
    "        x[idx] = tmp - h\n",
    "        fxh2 = f(x)\n",
    "        \n",
    "        grad[idx] = (fxh1 - fxh2) / (2*h)   # 中心差分で偏微分係数を近似算出して記録\n",
    "        \n",
    "        x[idx] = tmp                # x[idx] を元に戻す\n",
    "        \n",
    "    return grad"
   ]
  },
  {
   "cell_type": "code",
   "execution_count": 197,
   "metadata": {},
   "outputs": [
    {
     "data": {
      "text/plain": [
       "array([6., 8.])"
      ]
     },
     "execution_count": 197,
     "metadata": {},
     "output_type": "execute_result"
    }
   ],
   "source": [
    "numerical_gradient(function_2, np.array([3.0, 4.0]))\n",
    "\n",
    "# numerical_gradient(function_2, np.array([3, 4]))\n",
    "# え，こっちだと全然ダメな結果になった．ちゃんと .0 を打って float として扱わせないとやばいのか．"
   ]
  },
  {
   "cell_type": "code",
   "execution_count": 205,
   "metadata": {},
   "outputs": [
    {
     "name": "stdout",
     "output_type": "stream",
     "text": [
      "[6. 8.]\n",
      "[4. 6.]\n",
      "[0. 2.]\n",
      "[0. 0.]\n"
     ]
    }
   ],
   "source": [
    "# 各地点の勾配を見ながらセルフ勾配降下\n",
    "# 最小化(降下)したいので，勾配がプラスなら負の方向に動いて，マイナスなら正の方向に動くべき\n",
    "\n",
    "print( numerical_gradient(function_2, np.array([3.0, 4.0])) )\n",
    "print( numerical_gradient(function_2, np.array([2.0, 3.0])) )\n",
    "print( numerical_gradient(function_2, np.array([0.0, 1.0])) )\n",
    "print( numerical_gradient(function_2, np.array([0.0, 0.0])) )"
   ]
  },
  {
   "cell_type": "code",
   "execution_count": 207,
   "metadata": {},
   "outputs": [],
   "source": [
    "# from ch04/gradient_2d.py\n",
    "\n",
    "# 勾配を矢印で表した図 4-9 を生成するための関数を，今後も自分で使いやすいようにカスタマイズしたい．\n",
    "# 例えばロジスティックの勾配降下を説明する時とかに便利そう．"
   ]
  },
  {
   "cell_type": "code",
   "execution_count": null,
   "metadata": {},
   "outputs": [],
   "source": []
  }
 ],
 "metadata": {
  "kernelspec": {
   "display_name": "Python 3",
   "language": "python",
   "name": "python3"
  },
  "language_info": {
   "codemirror_mode": {
    "name": "ipython",
    "version": 3
   },
   "file_extension": ".py",
   "mimetype": "text/x-python",
   "name": "python",
   "nbconvert_exporter": "python",
   "pygments_lexer": "ipython3",
   "version": "3.7.4"
  }
 },
 "nbformat": 4,
 "nbformat_minor": 2
}
