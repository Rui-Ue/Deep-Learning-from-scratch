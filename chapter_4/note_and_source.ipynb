{
 "cells": [
  {
   "cell_type": "markdown",
   "metadata": {},
   "source": [
    "## 4.1.1 データ駆動"
   ]
  },
  {
   "cell_type": "markdown",
   "metadata": {},
   "source": [
    "> ニューラルネットワークは，画像に含まれる重要な特徴量までも「機械」が学習するのです\n",
    "\n",
    "これ，よく言われる表現だが，まあどういう意味での主張か理解できた．  \n",
    "\n",
    "1. 例えば回帰のニューラルネットワークモデルを考える．  \n",
    "2. 一般的には，出力層での活性化関数は恒等関数．  \n",
    "すなわち，出力層のノード(アウトカムの値そのもの)は，最後の隠れ層ノードの線形結合になってる．  \n",
    "3. ここで，最後の隠れ層ノードっていうのは，マクロな視点で見ると，説明変数を線形変換・活性化で何度も何度も変換して得られた特徴量である．  \n",
    "データから交互作用をめっちゃ考慮した特徴量を作った感じ．  \n",
    "4. こう考えると，DNNは「重要な特徴量＝最終隠れ層ノード」を学習で獲得して，それで線形回帰している，と捉えられる．"
   ]
  },
  {
   "cell_type": "code",
   "execution_count": null,
   "metadata": {},
   "outputs": [],
   "source": []
  }
 ],
 "metadata": {
  "kernelspec": {
   "display_name": "Python 3",
   "language": "python",
   "name": "python3"
  },
  "language_info": {
   "codemirror_mode": {
    "name": "ipython",
    "version": 3
   },
   "file_extension": ".py",
   "mimetype": "text/x-python",
   "name": "python",
   "nbconvert_exporter": "python",
   "pygments_lexer": "ipython3",
   "version": "3.7.4"
  }
 },
 "nbformat": 4,
 "nbformat_minor": 2
}
