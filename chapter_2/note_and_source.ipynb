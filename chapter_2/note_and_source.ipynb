{
 "cells": [
  {
   "cell_type": "markdown",
   "metadata": {},
   "source": [
    "# 2章 パーセプトロン"
   ]
  },
  {
   "cell_type": "markdown",
   "metadata": {},
   "source": [
    "> パーセプトロンはニューラルネットワークの起源となるアルゴリズム\n",
    "\n",
    "これがモチベ．"
   ]
  },
  {
   "cell_type": "markdown",
   "metadata": {},
   "source": [
    "## 2.1. パーセプトロンとは"
   ]
  },
  {
   "cell_type": "markdown",
   "metadata": {},
   "source": [
    "パーセプトロンってのは結局， (2.1) , (2.2) に表されているようなモデル．  \n",
    "パラメータは $\\boldsymbol{w}, \\theta$ の $p+1$ 個．  \n",
    "PRML 的な分類では識別関数．生成モデルや識別モデルではなく．  \n",
    "\n",
    "ANDゲートとかの実装では人力でパラメータ決定してるが，p25 にも\n",
    "\n",
    "> 機械学習の問題では，このパラメータの値を決める作業をコンピュータに自動で行わせます\n",
    "\n",
    "とあるし．"
   ]
  },
  {
   "cell_type": "markdown",
   "metadata": {},
   "source": [
    "## 2.3. パーセプトロンの実装"
   ]
  },
  {
   "cell_type": "code",
   "execution_count": 8,
   "metadata": {},
   "outputs": [],
   "source": [
    "import numpy as np"
   ]
  },
  {
   "cell_type": "code",
   "execution_count": 3,
   "metadata": {},
   "outputs": [],
   "source": [
    "class LogicGate:\n",
    "    def __init__(self, w1, w2, theta):\n",
    "        self.w1 = w1\n",
    "        self.w2 = w2\n",
    "        self.theta = theta\n",
    "    def predict(self, x1, x2):\n",
    "        tmp = self.w1*x1 + self.w2*x2\n",
    "        if tmp > self.theta:\n",
    "            return 1\n",
    "        else:\n",
    "            return 0"
   ]
  },
  {
   "cell_type": "code",
   "execution_count": 7,
   "metadata": {},
   "outputs": [
    {
     "data": {
      "text/plain": [
       "1"
      ]
     },
     "execution_count": 7,
     "metadata": {},
     "output_type": "execute_result"
    }
   ],
   "source": [
    "and_gate = Logic(w1=0.5, w2=0.5, theta=0.7)\n",
    "and_gate.predict(1, 1)"
   ]
  },
  {
   "cell_type": "code",
   "execution_count": 15,
   "metadata": {},
   "outputs": [],
   "source": [
    "class LogicGate2:\n",
    "    def __init__(self, w1, w2, b):\n",
    "        self.w = np.array([w1, w2])\n",
    "        self.b = b\n",
    "    def predict(self, x1, x2):\n",
    "        tmp = self.b + np.dot(self.w, np.array([x1, x2]))\n",
    "        if tmp > 0:\n",
    "            return 1\n",
    "        else:\n",
    "            return 0"
   ]
  },
  {
   "cell_type": "code",
   "execution_count": 32,
   "metadata": {},
   "outputs": [
    {
     "data": {
      "text/plain": [
       "1"
      ]
     },
     "execution_count": 32,
     "metadata": {},
     "output_type": "execute_result"
    }
   ],
   "source": [
    "and_gate = LogicGate2(w1=0.5, w2=0.5, b=-0.7)\n",
    "and_gate.predict(1, 1)"
   ]
  },
  {
   "cell_type": "code",
   "execution_count": 33,
   "metadata": {},
   "outputs": [
    {
     "data": {
      "text/plain": [
       "0"
      ]
     },
     "execution_count": 33,
     "metadata": {},
     "output_type": "execute_result"
    }
   ],
   "source": [
    "nand_gate = LogicGate2(w1=-0.5, w2=-0.5, b=0.7)\n",
    "nand_gate.predict(1,1)"
   ]
  },
  {
   "cell_type": "code",
   "execution_count": 34,
   "metadata": {},
   "outputs": [
    {
     "data": {
      "text/plain": [
       "1"
      ]
     },
     "execution_count": 34,
     "metadata": {},
     "output_type": "execute_result"
    }
   ],
   "source": [
    "or_gate = LogicGate2(w1=0.5, w2=0.5, b=-0.2)\n",
    "or_gate.predict(1,1)"
   ]
  },
  {
   "cell_type": "markdown",
   "metadata": {},
   "source": [
    "## 2.4. (単層の)パーセプトロンの限界"
   ]
  },
  {
   "cell_type": "markdown",
   "metadata": {},
   "source": [
    "統計では例えば SVM で説明されるような「直線(超平面)による分離の限界」を，論理ゲートから説明してたのか．斬新だな．  \n",
    "線形分離(単層のパーセプトロンによる分離)不可能なデータ(分類タスク)の具体例として，XORゲートが挙げられるのか．面白い．\n",
    "- SVM\n",
    "  - 線形分離不可能なデータもあるよね．\n",
    "  - あえて高次元に写像しよう．カーネルトリックを使おう．\n",
    "- NN\n",
    "  - パーセプトロンによる線形分離が不可能なデータもあるよね．\n",
    "  - 層を重ねよう．   "
   ]
  },
  {
   "cell_type": "markdown",
   "metadata": {},
   "source": [
    "## 2.5. 多層パーセプトロン"
   ]
  },
  {
   "cell_type": "code",
   "execution_count": 47,
   "metadata": {},
   "outputs": [],
   "source": [
    "class XOR:\n",
    "    def __init__(self):\n",
    "        self.nand_gate = LogicGate2(w1=-0.5, w2=-0.5, b=0.7)\n",
    "        self.or_gate = LogicGate2(w1=0.5, w2=0.5, b=-0.2)\n",
    "        self.and_gate = LogicGate2(w1=0.5, w2=0.5, b=-0.7)\n",
    "    def predict(self, x1, x2):\n",
    "        s1 = self.nand_gate.predict(x1, x2)\n",
    "        s2 = self.or_gate.predict(x1, x2)\n",
    "        y = self.and_gate.predict(s1, s2)\n",
    "        return y"
   ]
  },
  {
   "cell_type": "code",
   "execution_count": 48,
   "metadata": {},
   "outputs": [
    {
     "data": {
      "text/plain": [
       "0"
      ]
     },
     "execution_count": 48,
     "metadata": {},
     "output_type": "execute_result"
    }
   ],
   "source": [
    "xor_gate = XOR()\n",
    "xor_gate.predict(1,1)"
   ]
  },
  {
   "cell_type": "markdown",
   "metadata": {},
   "source": [
    "層を重ねることで...  \n",
    "図2-7のような XOR 分類ができた  \n",
    "＝ モデルの表現力が増し非線型な分離もできるようになった\n"
   ]
  },
  {
   "cell_type": "markdown",
   "metadata": {},
   "source": [
    "> 図2-13のパーセプトロンは合計で３層から構成されますが， ... 「２層のパーセプトロン」と呼ぶことにします．\n",
    "\n",
    "この辺ややこしいので，しっかり覚えとこう．  \n",
    "\n",
    "入力層を第 0 層とみなして出力層が第 $n$ 層にあたるとき， $n$ 層パーセプトロンと呼ぶ．  \n",
    "$n=1$ なら単層パーセプトロンで， $n>1$ なら多層パーセプトロン．  \n",
    "気持ちとしては，何層に対して変換が行われているか，という感じ．  \n",
    "\n",
    "だったら特徴量の部分を層と呼ぶのではなく，施す変換の部分を層と呼べよ．と思うが．  \n",
    "後の3.1節の図3-1のところでもっとちゃんとした定義的な説明あるよ，まあ俺の理解で大丈夫そう．"
   ]
  },
  {
   "cell_type": "markdown",
   "metadata": {},
   "source": [
    "## 2.7. まとめ"
   ]
  },
  {
   "cell_type": "markdown",
   "metadata": {},
   "source": [
    "> 本章で学んだこと\n",
    "\n",
    "これに綺麗にまとまっている．分かりやすい．"
   ]
  },
  {
   "cell_type": "markdown",
   "metadata": {},
   "source": [
    "# 実装の感想\n",
    "\n",
    "集中講義でやった PyTorch コーディング (unitインスタンスを組み合わせてどうこう) を意識してオプジェクト指向で実装したが，なんか筋が悪そう．  \n",
    "テキストにあるような関数型パラダイムでの実装は分かりやすいし，アドバンテージ感じない．  \n",
    "ちょっと PyTorch の講義コード見直して，設計を考え直すべきかも．"
   ]
  },
  {
   "cell_type": "markdown",
   "metadata": {},
   "source": [
    "----"
   ]
  },
  {
   "cell_type": "markdown",
   "metadata": {},
   "source": []
  },
  {
   "cell_type": "code",
   "execution_count": null,
   "metadata": {},
   "outputs": [],
   "source": []
  }
 ],
 "metadata": {
  "kernelspec": {
   "display_name": "Python 3",
   "language": "python",
   "name": "python3"
  },
  "language_info": {
   "codemirror_mode": {
    "name": "ipython",
    "version": 3
   },
   "file_extension": ".py",
   "mimetype": "text/x-python",
   "name": "python",
   "nbconvert_exporter": "python",
   "pygments_lexer": "ipython3",
   "version": "3.7.4"
  }
 },
 "nbformat": 4,
 "nbformat_minor": 2
}
